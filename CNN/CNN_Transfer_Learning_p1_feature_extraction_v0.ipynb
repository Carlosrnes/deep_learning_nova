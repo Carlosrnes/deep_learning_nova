{
  "nbformat": 4,
  "nbformat_minor": 0,
  "metadata": {
    "colab": {
      "name": "CNN_Transfer_Learning_p1_feature_extraction_v0.ipynb",
      "provenance": [],
      "authorship_tag": "ABX9TyML1V/29Ph6pFmjcUq/X3EV",
      "include_colab_link": true
    },
    "kernelspec": {
      "name": "python3",
      "display_name": "Python 3"
    },
    "language_info": {
      "name": "python"
    },
    "accelerator": "GPU"
  },
  "cells": [
    {
      "cell_type": "markdown",
      "metadata": {
        "id": "view-in-github",
        "colab_type": "text"
      },
      "source": [
        "<a href=\"https://colab.research.google.com/github/Carlosrnes/deep_learning_nova/blob/main/CNN/CNN_Transfer_Learning_p1_feature_extraction_v0.ipynb\" target=\"_parent\"><img src=\"https://colab.research.google.com/assets/colab-badge.svg\" alt=\"Open In Colab\"/></a>"
      ]
    },
    {
      "cell_type": "markdown",
      "source": [
        "### GPU\n",
        "\n",
        "https://colab.research.google.com/notebooks/gpu.ipynb"
      ],
      "metadata": {
        "id": "o3J52twKqP4T"
      }
    },
    {
      "cell_type": "code",
      "execution_count": 1,
      "metadata": {
        "colab": {
          "base_uri": "https://localhost:8080/"
        },
        "id": "AI1ytyvTT2QU",
        "outputId": "f6847396-4c32-4468-944d-81d894a36e71"
      },
      "outputs": [
        {
          "output_type": "stream",
          "name": "stdout",
          "text": [
            "Sat Mar 26 20:47:06 2022       \n",
            "+-----------------------------------------------------------------------------+\n",
            "| NVIDIA-SMI 460.32.03    Driver Version: 460.32.03    CUDA Version: 11.2     |\n",
            "|-------------------------------+----------------------+----------------------+\n",
            "| GPU  Name        Persistence-M| Bus-Id        Disp.A | Volatile Uncorr. ECC |\n",
            "| Fan  Temp  Perf  Pwr:Usage/Cap|         Memory-Usage | GPU-Util  Compute M. |\n",
            "|                               |                      |               MIG M. |\n",
            "|===============================+======================+======================|\n",
            "|   0  Tesla K80           Off  | 00000000:00:04.0 Off |                    0 |\n",
            "| N/A   73C    P8    32W / 149W |      0MiB / 11441MiB |      0%      Default |\n",
            "|                               |                      |                  N/A |\n",
            "+-------------------------------+----------------------+----------------------+\n",
            "                                                                               \n",
            "+-----------------------------------------------------------------------------+\n",
            "| Processes:                                                                  |\n",
            "|  GPU   GI   CI        PID   Type   Process name                  GPU Memory |\n",
            "|        ID   ID                                                   Usage      |\n",
            "|=============================================================================|\n",
            "|  No running processes found                                                 |\n",
            "+-----------------------------------------------------------------------------+\n"
          ]
        }
      ],
      "source": [
        "!nvidia-smi"
      ]
    },
    {
      "cell_type": "markdown",
      "source": [
        "### How to Load Kaggle Datasets Directly into Google Colab?\n",
        "\n",
        "https://www.analyticsvidhya.com/blog/2021/06/how-to-load-kaggle-datasets-directly-into-google-colab/ "
      ],
      "metadata": {
        "id": "RE5pNeSbU5cs"
      }
    },
    {
      "cell_type": "code",
      "source": [
        "! pip install kaggle\n",
        "! mkdir ~/.kaggle\n",
        "! cp kaggle.json ~/.kaggle/\n",
        "! chmod 600 ~/.kaggle/kaggle.json\n",
        "\n",
        "# Download data\n",
        "! kaggle datasets download -d kmader/food41"
      ],
      "metadata": {
        "colab": {
          "base_uri": "https://localhost:8080/"
        },
        "id": "wGT6DKCGUARC",
        "outputId": "b9458cb6-b39b-4d07-938b-45f6d81967c7"
      },
      "execution_count": 2,
      "outputs": [
        {
          "output_type": "stream",
          "name": "stdout",
          "text": [
            "Requirement already satisfied: kaggle in /usr/local/lib/python3.7/dist-packages (1.5.12)\n",
            "Requirement already satisfied: certifi in /usr/local/lib/python3.7/dist-packages (from kaggle) (2021.10.8)\n",
            "Requirement already satisfied: urllib3 in /usr/local/lib/python3.7/dist-packages (from kaggle) (1.24.3)\n",
            "Requirement already satisfied: tqdm in /usr/local/lib/python3.7/dist-packages (from kaggle) (4.63.0)\n",
            "Requirement already satisfied: requests in /usr/local/lib/python3.7/dist-packages (from kaggle) (2.23.0)\n",
            "Requirement already satisfied: python-dateutil in /usr/local/lib/python3.7/dist-packages (from kaggle) (2.8.2)\n",
            "Requirement already satisfied: six>=1.10 in /usr/local/lib/python3.7/dist-packages (from kaggle) (1.15.0)\n",
            "Requirement already satisfied: python-slugify in /usr/local/lib/python3.7/dist-packages (from kaggle) (6.1.1)\n",
            "Requirement already satisfied: text-unidecode>=1.3 in /usr/local/lib/python3.7/dist-packages (from python-slugify->kaggle) (1.3)\n",
            "Requirement already satisfied: idna<3,>=2.5 in /usr/local/lib/python3.7/dist-packages (from requests->kaggle) (2.10)\n",
            "Requirement already satisfied: chardet<4,>=3.0.2 in /usr/local/lib/python3.7/dist-packages (from requests->kaggle) (3.0.4)\n",
            "Downloading food41.zip to /content\n",
            "100% 5.28G/5.30G [00:25<00:00, 212MB/s]\n",
            "100% 5.30G/5.30G [00:25<00:00, 222MB/s]\n"
          ]
        }
      ]
    },
    {
      "cell_type": "markdown",
      "source": [
        "### Libraries"
      ],
      "metadata": {
        "id": "HsZJYFSWVV_X"
      }
    },
    {
      "cell_type": "code",
      "source": [
        "import os, shutil\n",
        "import numpy as np\n",
        "\n",
        "import matplotlib.pyplot as plt\n",
        "import matplotlib.cm as cm\n",
        "from IPython.display import Image, display\n",
        "\n",
        "import tensorflow as tf\n",
        "from tensorflow import keras\n",
        "from tensorflow.keras import models\n",
        "from tensorflow.keras import layers\n",
        "\n",
        "from tensorflow.keras import optimizers\n",
        "\n",
        "from tensorflow.keras.preprocessing.image import ImageDataGenerator\n",
        "\n",
        "from keras.preprocessing import image"
      ],
      "metadata": {
        "id": "8ZfpArzyVYw-"
      },
      "execution_count": 3,
      "outputs": []
    },
    {
      "cell_type": "markdown",
      "source": [
        "###  Get Data"
      ],
      "metadata": {
        "id": "KcTvDys1VGpT"
      }
    },
    {
      "cell_type": "code",
      "source": [
        "# Get data\n",
        "import zipfile\n",
        "\n",
        "# Unzip the downloaded file\n",
        "zip_ref = zipfile.ZipFile(\"food41.zip\", \"r\")\n",
        "zip_ref.extractall()\n",
        "zip_ref.close()"
      ],
      "metadata": {
        "id": "EvNxTL2fVFV2"
      },
      "execution_count": 4,
      "outputs": []
    },
    {
      "cell_type": "code",
      "source": [
        "# How many images in each folder?\n",
        "import os\n",
        "\n",
        "# Walk through 10 percent data directory and list number of files\n",
        "for dirpath, dirnames, filenames in os.walk(\"images\"):\n",
        "  print(f\"There are {len(dirnames)} directories and {len(filenames)} images in '{dirpath}'.\")"
      ],
      "metadata": {
        "id": "TOZsIF5NVUgd",
        "colab": {
          "base_uri": "https://localhost:8080/"
        },
        "outputId": "39e4851b-002f-42bc-ec37-9aea90de80b0"
      },
      "execution_count": 5,
      "outputs": [
        {
          "output_type": "stream",
          "name": "stdout",
          "text": [
            "There are 101 directories and 0 images in 'images'.\n",
            "There are 0 directories and 1000 images in 'images/greek_salad'.\n",
            "There are 0 directories and 1000 images in 'images/eggs_benedict'.\n",
            "There are 0 directories and 1000 images in 'images/pad_thai'.\n",
            "There are 0 directories and 1000 images in 'images/huevos_rancheros'.\n",
            "There are 0 directories and 1000 images in 'images/frozen_yogurt'.\n",
            "There are 0 directories and 1000 images in 'images/lobster_bisque'.\n",
            "There are 0 directories and 1000 images in 'images/grilled_salmon'.\n",
            "There are 0 directories and 1000 images in 'images/omelette'.\n",
            "There are 0 directories and 1000 images in 'images/ice_cream'.\n",
            "There are 0 directories and 1000 images in 'images/breakfast_burrito'.\n",
            "There are 0 directories and 1000 images in 'images/french_fries'.\n",
            "There are 0 directories and 1000 images in 'images/nachos'.\n",
            "There are 0 directories and 1000 images in 'images/pulled_pork_sandwich'.\n",
            "There are 0 directories and 1000 images in 'images/fried_calamari'.\n",
            "There are 0 directories and 1000 images in 'images/beef_tartare'.\n",
            "There are 0 directories and 1000 images in 'images/samosa'.\n",
            "There are 0 directories and 1000 images in 'images/ramen'.\n",
            "There are 0 directories and 1000 images in 'images/peking_duck'.\n",
            "There are 0 directories and 1000 images in 'images/baklava'.\n",
            "There are 0 directories and 1000 images in 'images/pizza'.\n",
            "There are 0 directories and 1000 images in 'images/risotto'.\n",
            "There are 0 directories and 1000 images in 'images/bibimbap'.\n",
            "There are 0 directories and 1000 images in 'images/steak'.\n",
            "There are 0 directories and 1000 images in 'images/chocolate_mousse'.\n",
            "There are 0 directories and 1000 images in 'images/red_velvet_cake'.\n",
            "There are 0 directories and 1000 images in 'images/paella'.\n",
            "There are 0 directories and 1000 images in 'images/pancakes'.\n",
            "There are 0 directories and 1000 images in 'images/french_toast'.\n",
            "There are 0 directories and 1000 images in 'images/bread_pudding'.\n",
            "There are 0 directories and 1000 images in 'images/sushi'.\n",
            "There are 0 directories and 1000 images in 'images/garlic_bread'.\n",
            "There are 0 directories and 1000 images in 'images/seaweed_salad'.\n",
            "There are 0 directories and 1000 images in 'images/club_sandwich'.\n",
            "There are 0 directories and 1000 images in 'images/cheesecake'.\n",
            "There are 0 directories and 1000 images in 'images/spaghetti_carbonara'.\n",
            "There are 0 directories and 1000 images in 'images/baby_back_ribs'.\n",
            "There are 0 directories and 1000 images in 'images/hot_dog'.\n",
            "There are 0 directories and 1000 images in 'images/oysters'.\n",
            "There are 0 directories and 1000 images in 'images/clam_chowder'.\n",
            "There are 0 directories and 1000 images in 'images/shrimp_and_grits'.\n",
            "There are 0 directories and 1000 images in 'images/dumplings'.\n",
            "There are 0 directories and 1000 images in 'images/beef_carpaccio'.\n",
            "There are 0 directories and 1000 images in 'images/pork_chop'.\n",
            "There are 0 directories and 1000 images in 'images/hummus'.\n",
            "There are 0 directories and 1000 images in 'images/chocolate_cake'.\n",
            "There are 0 directories and 1000 images in 'images/spaghetti_bolognese'.\n",
            "There are 0 directories and 1000 images in 'images/caesar_salad'.\n",
            "There are 0 directories and 1000 images in 'images/caprese_salad'.\n",
            "There are 0 directories and 1000 images in 'images/fish_and_chips'.\n",
            "There are 0 directories and 1000 images in 'images/macarons'.\n",
            "There are 0 directories and 1000 images in 'images/chicken_quesadilla'.\n",
            "There are 0 directories and 1000 images in 'images/cheese_plate'.\n",
            "There are 0 directories and 1000 images in 'images/guacamole'.\n",
            "There are 0 directories and 1000 images in 'images/fried_rice'.\n",
            "There are 0 directories and 1000 images in 'images/donuts'.\n",
            "There are 0 directories and 1000 images in 'images/escargots'.\n",
            "There are 0 directories and 1000 images in 'images/foie_gras'.\n",
            "There are 0 directories and 1000 images in 'images/onion_rings'.\n",
            "There are 0 directories and 1000 images in 'images/lasagna'.\n",
            "There are 0 directories and 1000 images in 'images/french_onion_soup'.\n",
            "There are 0 directories and 1000 images in 'images/carrot_cake'.\n",
            "There are 0 directories and 1000 images in 'images/hamburger'.\n",
            "There are 0 directories and 1000 images in 'images/crab_cakes'.\n",
            "There are 0 directories and 1000 images in 'images/miso_soup'.\n",
            "There are 0 directories and 1000 images in 'images/deviled_eggs'.\n",
            "There are 0 directories and 1000 images in 'images/mussels'.\n",
            "There are 0 directories and 1000 images in 'images/cup_cakes'.\n",
            "There are 0 directories and 1000 images in 'images/tacos'.\n",
            "There are 0 directories and 1000 images in 'images/prime_rib'.\n",
            "There are 0 directories and 1000 images in 'images/hot_and_sour_soup'.\n",
            "There are 0 directories and 1000 images in 'images/churros'.\n",
            "There are 0 directories and 1000 images in 'images/gnocchi'.\n",
            "There are 0 directories and 1000 images in 'images/ravioli'.\n",
            "There are 0 directories and 1000 images in 'images/tuna_tartare'.\n",
            "There are 0 directories and 1000 images in 'images/lobster_roll_sandwich'.\n",
            "There are 0 directories and 1000 images in 'images/chicken_curry'.\n",
            "There are 0 directories and 1000 images in 'images/gyoza'.\n",
            "There are 0 directories and 1000 images in 'images/edamame'.\n",
            "There are 0 directories and 1000 images in 'images/cannoli'.\n",
            "There are 0 directories and 1000 images in 'images/sashimi'.\n",
            "There are 0 directories and 1000 images in 'images/spring_rolls'.\n",
            "There are 0 directories and 1000 images in 'images/strawberry_shortcake'.\n",
            "There are 0 directories and 1000 images in 'images/chicken_wings'.\n",
            "There are 0 directories and 1000 images in 'images/falafel'.\n",
            "There are 0 directories and 1000 images in 'images/apple_pie'.\n",
            "There are 0 directories and 1000 images in 'images/pho'.\n",
            "There are 0 directories and 1000 images in 'images/croque_madame'.\n",
            "There are 0 directories and 1000 images in 'images/tiramisu'.\n",
            "There are 0 directories and 1000 images in 'images/ceviche'.\n",
            "There are 0 directories and 1000 images in 'images/bruschetta'.\n",
            "There are 0 directories and 1000 images in 'images/poutine'.\n",
            "There are 0 directories and 1000 images in 'images/takoyaki'.\n",
            "There are 0 directories and 1000 images in 'images/panna_cotta'.\n",
            "There are 0 directories and 1000 images in 'images/beet_salad'.\n",
            "There are 0 directories and 1000 images in 'images/filet_mignon'.\n",
            "There are 0 directories and 1000 images in 'images/grilled_cheese_sandwich'.\n",
            "There are 0 directories and 1000 images in 'images/waffles'.\n",
            "There are 0 directories and 1000 images in 'images/macaroni_and_cheese'.\n",
            "There are 0 directories and 1000 images in 'images/beignets'.\n",
            "There are 0 directories and 1000 images in 'images/scallops'.\n",
            "There are 0 directories and 1000 images in 'images/creme_brulee'.\n"
          ]
        }
      ]
    },
    {
      "cell_type": "code",
      "source": [
        "# select the directory of the images (divided by class folder) - without data augmentation\n",
        "data_folder = '/content/images'\n",
        "\n",
        "list_class = os.listdir(data_folder)\n",
        "list_class.sort()\n",
        "\n",
        "\n",
        "print(f'{len(list_class)} Classes of foods.')\n",
        "print(list_class)"
      ],
      "metadata": {
        "colab": {
          "base_uri": "https://localhost:8080/"
        },
        "id": "Mg-ROOhJW0rY",
        "outputId": "292c9972-6bf3-48a3-f057-268a7f997785"
      },
      "execution_count": 6,
      "outputs": [
        {
          "output_type": "stream",
          "name": "stdout",
          "text": [
            "101 Classes of foods.\n",
            "['apple_pie', 'baby_back_ribs', 'baklava', 'beef_carpaccio', 'beef_tartare', 'beet_salad', 'beignets', 'bibimbap', 'bread_pudding', 'breakfast_burrito', 'bruschetta', 'caesar_salad', 'cannoli', 'caprese_salad', 'carrot_cake', 'ceviche', 'cheese_plate', 'cheesecake', 'chicken_curry', 'chicken_quesadilla', 'chicken_wings', 'chocolate_cake', 'chocolate_mousse', 'churros', 'clam_chowder', 'club_sandwich', 'crab_cakes', 'creme_brulee', 'croque_madame', 'cup_cakes', 'deviled_eggs', 'donuts', 'dumplings', 'edamame', 'eggs_benedict', 'escargots', 'falafel', 'filet_mignon', 'fish_and_chips', 'foie_gras', 'french_fries', 'french_onion_soup', 'french_toast', 'fried_calamari', 'fried_rice', 'frozen_yogurt', 'garlic_bread', 'gnocchi', 'greek_salad', 'grilled_cheese_sandwich', 'grilled_salmon', 'guacamole', 'gyoza', 'hamburger', 'hot_and_sour_soup', 'hot_dog', 'huevos_rancheros', 'hummus', 'ice_cream', 'lasagna', 'lobster_bisque', 'lobster_roll_sandwich', 'macaroni_and_cheese', 'macarons', 'miso_soup', 'mussels', 'nachos', 'omelette', 'onion_rings', 'oysters', 'pad_thai', 'paella', 'pancakes', 'panna_cotta', 'peking_duck', 'pho', 'pizza', 'pork_chop', 'poutine', 'prime_rib', 'pulled_pork_sandwich', 'ramen', 'ravioli', 'red_velvet_cake', 'risotto', 'samosa', 'sashimi', 'scallops', 'seaweed_salad', 'shrimp_and_grits', 'spaghetti_bolognese', 'spaghetti_carbonara', 'spring_rolls', 'steak', 'strawberry_shortcake', 'sushi', 'tacos', 'takoyaki', 'tiramisu', 'tuna_tartare', 'waffles']\n"
          ]
        }
      ]
    },
    {
      "cell_type": "markdown",
      "source": [
        "### Data Preprocessing"
      ],
      "metadata": {
        "id": "1P3JUNpAYGDo"
      }
    },
    {
      "cell_type": "code",
      "source": [
        "# Set the seed\n",
        "tf.random.set_seed(42)\n",
        "\n",
        "IMAGE_SHAPE = (224, 224)\n",
        "BATCH_SIZE = 32\n",
        "\n",
        "# rescale the Image and split into validation set\n",
        "datagen = ImageDataGenerator(rescale = 1./255, validation_split = 0.2)\n",
        "\n",
        "# train set - generation\n",
        "train_generator = datagen.flow_from_directory(data_folder,\n",
        "                                         target_size = IMAGE_SHAPE,\n",
        "                                         batch_size = BATCH_SIZE,\n",
        "                                         class_mode = 'categorical',\n",
        "                                         seed=42,\n",
        "                                         subset = 'training')\n",
        "\n",
        "val_generator = datagen.flow_from_directory(data_folder,\n",
        "                                      target_size = IMAGE_SHAPE,\n",
        "                                      batch_size = BATCH_SIZE,\n",
        "                                      class_mode = 'categorical',\n",
        "                                      seed=42,\n",
        "                                      subset = 'validation')\n"
      ],
      "metadata": {
        "colab": {
          "base_uri": "https://localhost:8080/"
        },
        "id": "AR2XnVT_YNx7",
        "outputId": "36522067-09a4-4ada-b9d4-d337889ff2ee"
      },
      "execution_count": 7,
      "outputs": [
        {
          "output_type": "stream",
          "name": "stdout",
          "text": [
            "Found 80800 images belonging to 101 classes.\n",
            "Found 20200 images belonging to 101 classes.\n"
          ]
        }
      ]
    },
    {
      "cell_type": "code",
      "source": [
        "# Sanity Check\n",
        "for data_batch, labels_batch in train_generator:\n",
        "    print('data batch shape:', data_batch.shape)\n",
        "    print('labels batch shape:', labels_batch.shape)\n",
        "    break"
      ],
      "metadata": {
        "colab": {
          "base_uri": "https://localhost:8080/"
        },
        "id": "7ckURoLns4hB",
        "outputId": "8a3c1f48-212f-4295-d0c7-cbc5e4ede995"
      },
      "execution_count": 8,
      "outputs": [
        {
          "output_type": "stream",
          "name": "stdout",
          "text": [
            "data batch shape: (32, 224, 224, 3)\n",
            "labels batch shape: (32, 101)\n"
          ]
        }
      ]
    },
    {
      "cell_type": "markdown",
      "source": [
        "### Creating a callback"
      ],
      "metadata": {
        "id": "nLhicEMT_dRV"
      }
    },
    {
      "cell_type": "code",
      "source": [
        "# Create tensorboard callback (functionized because need to create a new one for each model)\n",
        "import datetime\n",
        "def create_tensorboard_callback(dir_name, experiment_name):\n",
        "  log_dir = dir_name + \"/\" + experiment_name + \"/\" + datetime.datetime.now().strftime(\"%Y%m%d-%H%M%S\")\n",
        "  tensorboard_callback = tf.keras.callbacks.TensorBoard(\n",
        "      log_dir=log_dir\n",
        "  )\n",
        "  print(f\"Saving TensorBoard log files to: {log_dir}\")\n",
        "  return tensorboard_callback"
      ],
      "metadata": {
        "id": "ZyLoSNBs_V1C"
      },
      "execution_count": 10,
      "outputs": []
    },
    {
      "cell_type": "markdown",
      "source": [
        "## Creating models using TensorFlow Hub"
      ],
      "metadata": {
        "id": "FDGoLQTX_rr7"
      }
    },
    {
      "cell_type": "code",
      "source": [
        "import tensorflow_hub as hub\n",
        "from tensorflow.keras import layers\n",
        "\n",
        "# Resnet 50 V2 feature vector\n",
        "resnet_url = \"https://tfhub.dev/google/imagenet/resnet_v2_50/feature_vector/4\"\n",
        "\n",
        "# Original: EfficientNetB0 feature vector (version 1)\n",
        "efficientnet_url = \"https://tfhub.dev/tensorflow/efficientnet/b0/feature-vector/1\""
      ],
      "metadata": {
        "id": "W8QpQbbK_u-3"
      },
      "execution_count": 11,
      "outputs": []
    },
    {
      "cell_type": "code",
      "source": [
        "def create_model(model_url, num_classes=10):\n",
        "  \"\"\"Takes a TensorFlow Hub URL and creates a Keras Sequential model with it.\n",
        "  \n",
        "  Args:\n",
        "    model_url (str): A TensorFlow Hub feature extraction URL.\n",
        "    num_classes (int): Number of output neurons in output layer,\n",
        "      should be equal to number of target classes, default 10.\n",
        "\n",
        "  Returns:\n",
        "    An uncompiled Keras Sequential model with model_url as feature\n",
        "    extractor layer and Dense output layer with num_classes outputs.\n",
        "  \"\"\"\n",
        "  # Download the pretrained model and save it as a Keras layer\n",
        "  feature_extractor_layer = hub.KerasLayer(model_url,\n",
        "                                           trainable=False, # freeze the underlying patterns\n",
        "                                           name='feature_extraction_layer',\n",
        "                                           input_shape=IMAGE_SHAPE+(3,)) # define the input image shape\n",
        "  \n",
        "  # Create our own model\n",
        "  model = tf.keras.Sequential([\n",
        "    feature_extractor_layer, # use the feature extraction layer as the base\n",
        "    layers.Dense(num_classes, activation='softmax', name='output_layer') # create our own output layer      \n",
        "  ])\n",
        "\n",
        "  return model"
      ],
      "metadata": {
        "id": "Nvr67InZATCo"
      },
      "execution_count": 12,
      "outputs": []
    },
    {
      "cell_type": "markdown",
      "source": [
        "### Building the network"
      ],
      "metadata": {
        "id": "2CHuphRHYuBz"
      }
    },
    {
      "cell_type": "code",
      "source": [
        "# Create model\n",
        "resnet_model = create_model(resnet_url, num_classes=101)\n",
        "\n",
        "# Compile\n",
        "resnet_model.compile(loss='categorical_crossentropy',\n",
        "                     optimizer=tf.keras.optimizers.Adam(),\n",
        "                     metrics=['accuracy'])"
      ],
      "metadata": {
        "id": "DyBdlE3MY1CL"
      },
      "execution_count": 14,
      "outputs": []
    },
    {
      "cell_type": "markdown",
      "source": [
        "### Training the model"
      ],
      "metadata": {
        "id": "4e43tBCUY-WM"
      }
    },
    {
      "cell_type": "code",
      "source": [
        "# Fit the model\n",
        "resnet_history = resnet_model.fit(train_generator,\n",
        "                                  epochs=5,\n",
        "                                  steps_per_epoch=len(train_generator),\n",
        "                                  validation_data=val_generator,\n",
        "                                  validation_steps=len(val_generator),\n",
        "                                  # Add TensorBoard callback to model (callbacks parameter takes a list)\n",
        "                                  callbacks=[create_tensorboard_callback(dir_name=\"tensorflow_hub\", # save experiment logs here\n",
        "                                                                         experiment_name=\"resnet50V2\")]) # name of log files"
      ],
      "metadata": {
        "colab": {
          "base_uri": "https://localhost:8080/"
        },
        "id": "TPQ3u9UVAwX6",
        "outputId": "bde81a74-34c2-4660-8ef5-264bbec0e2ed"
      },
      "execution_count": 15,
      "outputs": [
        {
          "output_type": "stream",
          "name": "stdout",
          "text": [
            "Saving TensorBoard log files to: tensorflow_hub/resnet50V2/20220326-205558\n",
            "Epoch 1/5\n",
            "2525/2525 [==============================] - 838s 325ms/step - loss: 2.1460 - accuracy: 0.4793 - val_loss: 1.9123 - val_accuracy: 0.5329\n",
            "Epoch 2/5\n",
            "2525/2525 [==============================] - 705s 279ms/step - loss: 1.5878 - accuracy: 0.5946 - val_loss: 1.9148 - val_accuracy: 0.5411\n",
            "Epoch 3/5\n",
            "2525/2525 [==============================] - 658s 261ms/step - loss: 1.3969 - accuracy: 0.6349 - val_loss: 1.9369 - val_accuracy: 0.5478\n",
            "Epoch 4/5\n",
            "2525/2525 [==============================] - 646s 256ms/step - loss: 1.2702 - accuracy: 0.6630 - val_loss: 1.9457 - val_accuracy: 0.5544\n",
            "Epoch 5/5\n",
            "2525/2525 [==============================] - 644s 255ms/step - loss: 1.1736 - accuracy: 0.6839 - val_loss: 2.0117 - val_accuracy: 0.5523\n"
          ]
        }
      ]
    },
    {
      "cell_type": "code",
      "source": [
        "# If you wanted to, you could really turn this into a helper function to load in with a helper.py script...\n",
        "import matplotlib.pyplot as plt\n",
        "\n",
        "# Plot the validation and training data separately\n",
        "def plot_loss_curves(history):\n",
        "  \"\"\"\n",
        "  Returns separate loss curves for training and validation metrics.\n",
        "  \"\"\" \n",
        "  loss = history.history['loss']\n",
        "  val_loss = history.history['val_loss']\n",
        "\n",
        "  accuracy = history.history['accuracy']\n",
        "  val_accuracy = history.history['val_accuracy']\n",
        "\n",
        "  epochs = range(len(history.history['loss']))\n",
        "\n",
        "  # Plot loss\n",
        "  plt.plot(epochs, loss, label='training_loss')\n",
        "  plt.plot(epochs, val_loss, label='val_loss')\n",
        "  plt.title('Loss')\n",
        "  plt.xlabel('Epochs')\n",
        "  plt.legend()\n",
        "\n",
        "  # Plot accuracy\n",
        "  plt.figure()\n",
        "  plt.plot(epochs, accuracy, label='training_accuracy')\n",
        "  plt.plot(epochs, val_accuracy, label='val_accuracy')\n",
        "  plt.title('Accuracy')\n",
        "  plt.xlabel('Epochs')\n",
        "  plt.legend();"
      ],
      "metadata": {
        "id": "mcZckdh2BEAc"
      },
      "execution_count": 16,
      "outputs": []
    },
    {
      "cell_type": "code",
      "source": [
        "plot_loss_curves(resnet_history)"
      ],
      "metadata": {
        "colab": {
          "base_uri": "https://localhost:8080/",
          "height": 572
        },
        "id": "2FJRhq7VBGss",
        "outputId": "f5993797-9779-4c45-d7d8-3c583647dc0e"
      },
      "execution_count": 17,
      "outputs": [
        {
          "output_type": "display_data",
          "data": {
            "text/plain": [
              "<Figure size 432x288 with 1 Axes>"
            ],
            "image/png": "[encoded data removed]"
          },
          "metadata": {
            "needs_background": "light"
          }
        },
        {
          "output_type": "display_data",
          "data": {
            "text/plain": [
              "<Figure size 432x288 with 1 Axes>"
            ],
            "image/png": "[encoded data removed]"
          },
          "metadata": {
            "needs_background": "light"
          }
        }
      ]
    },
    {
      "cell_type": "code",
      "source": [
        "# Resnet summary \n",
        "resnet_model.summary()"
      ],
      "metadata": {
        "id": "mSIfYoKDvBMP",
        "colab": {
          "base_uri": "https://localhost:8080/"
        },
        "outputId": "4b541f7d-73b6-48fe-a3fb-3599ac4df4af"
      },
      "execution_count": 18,
      "outputs": [
        {
          "output_type": "stream",
          "name": "stdout",
          "text": [
            "Model: \"sequential\"\n",
            "_________________________________________________________________\n",
            " Layer (type)                Output Shape              Param #   \n",
            "=================================================================\n",
            " feature_extraction_layer (K  (None, 2048)             23564800  \n",
            " erasLayer)                                                      \n",
            "                                                                 \n",
            " output_layer (Dense)        (None, 101)               206949    \n",
            "                                                                 \n",
            "=================================================================\n",
            "Total params: 23,771,749\n",
            "Trainable params: 206,949\n",
            "Non-trainable params: 23,564,800\n",
            "_________________________________________________________________\n"
          ]
        }
      ]
    },
    {
      "cell_type": "code",
      "source": [
        "# Create model\n",
        "efficientnet_model = create_model(model_url=efficientnet_url, # use EfficientNetB0 TensorFlow Hub URL\n",
        "                                  num_classes=101)\n",
        "\n",
        "# Compile EfficientNet model\n",
        "efficientnet_model.compile(loss='categorical_crossentropy',\n",
        "                           optimizer=tf.keras.optimizers.Adam(),\n",
        "                           metrics=['accuracy'])\n",
        "\n",
        "# Fit EfficientNet model \n",
        "efficientnet_history = efficientnet_model.fit(train_generator, # only use 10% of training data\n",
        "                                              epochs=5, # train for 5 epochs\n",
        "                                              steps_per_epoch=len(train_generator),\n",
        "                                              validation_data=val_generator,\n",
        "                                              validation_steps=len(val_generator),\n",
        "                                              callbacks=[create_tensorboard_callback(dir_name=\"tensorflow_hub\", \n",
        "                                                                                     # Track logs under different experiment name\n",
        "                                                                                     experiment_name=\"efficientnetB0\")])"
      ],
      "metadata": {
        "colab": {
          "base_uri": "https://localhost:8080/"
        },
        "id": "h4g66sgABa11",
        "outputId": "3471941b-33cb-45a7-b0f0-ffa85c39dc8d"
      },
      "execution_count": 19,
      "outputs": [
        {
          "output_type": "stream",
          "name": "stdout",
          "text": [
            "Saving TensorBoard log files to: tensorflow_hub/efficientnetB0/20220326-215646\n",
            "Epoch 1/5\n",
            "2525/2525 [==============================] - 594s 230ms/step - loss: 1.6422 - accuracy: 0.5961 - val_loss: 1.3179 - val_accuracy: 0.6624\n",
            "Epoch 2/5\n",
            "2525/2525 [==============================] - 571s 226ms/step - loss: 1.1374 - accuracy: 0.7030 - val_loss: 1.2223 - val_accuracy: 0.6829\n",
            "Epoch 3/5\n",
            "2525/2525 [==============================] - 568s 225ms/step - loss: 0.9939 - accuracy: 0.7355 - val_loss: 1.2047 - val_accuracy: 0.6901\n",
            "Epoch 4/5\n",
            "2525/2525 [==============================] - 568s 225ms/step - loss: 0.9048 - accuracy: 0.7592 - val_loss: 1.1908 - val_accuracy: 0.6958\n",
            "Epoch 5/5\n",
            "2525/2525 [==============================] - 584s 231ms/step - loss: 0.8373 - accuracy: 0.7771 - val_loss: 1.1955 - val_accuracy: 0.6938\n"
          ]
        }
      ]
    },
    {
      "cell_type": "code",
      "source": [
        "plot_loss_curves(efficientnet_history)"
      ],
      "metadata": {
        "colab": {
          "base_uri": "https://localhost:8080/",
          "height": 572
        },
        "id": "JrJ34ac5BpTd",
        "outputId": "9c361f00-323f-4f25-b6a7-583cc940edc9"
      },
      "execution_count": 20,
      "outputs": [
        {
          "output_type": "display_data",
          "data": {
            "text/plain": [
              "<Figure size 432x288 with 1 Axes>"
            ],
            "image/png": "[encoded data removed]"
          },
          "metadata": {
            "needs_background": "light"
          }
        },
        {
          "output_type": "display_data",
          "data": {
            "text/plain": [
              "<Figure size 432x288 with 1 Axes>"
            ],
            "image/png": "[encoded data removed]"
          },
          "metadata": {
            "needs_background": "light"
          }
        }
      ]
    },
    {
      "cell_type": "code",
      "source": [
        "efficientnet_model.summary()"
      ],
      "metadata": {
        "colab": {
          "base_uri": "https://localhost:8080/"
        },
        "id": "NiZu4fy6Bs4P",
        "outputId": "d377248a-d958-4873-cc93-24e1e4c46428"
      },
      "execution_count": 21,
      "outputs": [
        {
          "output_type": "stream",
          "name": "stdout",
          "text": [
            "Model: \"sequential_1\"\n",
            "_________________________________________________________________\n",
            " Layer (type)                Output Shape              Param #   \n",
            "=================================================================\n",
            " feature_extraction_layer (K  (None, 1280)             4049564   \n",
            " erasLayer)                                                      \n",
            "                                                                 \n",
            " output_layer (Dense)        (None, 101)               129381    \n",
            "                                                                 \n",
            "=================================================================\n",
            "Total params: 4,178,945\n",
            "Trainable params: 129,381\n",
            "Non-trainable params: 4,049,564\n",
            "_________________________________________________________________\n"
          ]
        }
      ]
    },
    {
      "cell_type": "markdown",
      "source": [
        "### Heatmap - class activation heatmap for an image classification model"
      ],
      "metadata": {
        "id": "41YwGxEfqcxk"
      }
    },
    {
      "cell_type": "code",
      "source": [
        "# The Grad-CAM algorithm\n",
        "\n",
        "def get_img_array(img_path, size):\n",
        "    # `img` is a PIL image of size 299x299\n",
        "    img = keras.preprocessing.image.load_img(img_path, target_size=size)\n",
        "    # `array` is a float32 Numpy array of shape (299, 299, 3)\n",
        "    array = keras.preprocessing.image.img_to_array(img)\n",
        "    # We add a dimension to transform our array into a \"batch\"\n",
        "    # of size (1, 299, 299, 3)\n",
        "    array = np.expand_dims(array, axis=0)\n",
        "    return array\n",
        "\n",
        "\n",
        "def make_gradcam_heatmap(img_array, model, last_conv_layer_name, pred_index=None):\n",
        "    # First, we create a model that maps the input image to the activations\n",
        "    # of the last conv layer as well as the output predictions\n",
        "    grad_model = tf.keras.models.Model(\n",
        "        [model.inputs], [model.get_layer(last_conv_layer_name).output, model.output]\n",
        "    )\n",
        "\n",
        "    # Then, we compute the gradient of the top predicted class for our input image\n",
        "    # with respect to the activations of the last conv layer\n",
        "    with tf.GradientTape() as tape:\n",
        "        last_conv_layer_output, preds = grad_model(img_array)\n",
        "        if pred_index is None:\n",
        "            pred_index = tf.argmax(preds[0])\n",
        "        class_channel = preds[:, pred_index]\n",
        "\n",
        "    # This is the gradient of the output neuron (top predicted or chosen)\n",
        "    # with regard to the output feature map of the last conv layer\n",
        "    grads = tape.gradient(class_channel, last_conv_layer_output)\n",
        "\n",
        "    # This is a vector where each entry is the mean intensity of the gradient\n",
        "    # over a specific feature map channel\n",
        "    pooled_grads = tf.reduce_mean(grads, axis=(0, 1, 2))\n",
        "\n",
        "    # We multiply each channel in the feature map array\n",
        "    # by \"how important this channel is\" with regard to the top predicted class\n",
        "    # then sum all the channels to obtain the heatmap class activation\n",
        "    last_conv_layer_output = last_conv_layer_output[0]\n",
        "    heatmap = last_conv_layer_output @ pooled_grads[..., tf.newaxis]\n",
        "    heatmap = tf.squeeze(heatmap)\n",
        "\n",
        "    # For visualization purpose, we will also normalize the heatmap between 0 & 1\n",
        "    heatmap = tf.maximum(heatmap, 0) / tf.math.reduce_max(heatmap)\n",
        "    return heatmap.numpy()"
      ],
      "metadata": {
        "id": "a-9NU_gsqjFP"
      },
      "execution_count": 22,
      "outputs": []
    },
    {
      "cell_type": "code",
      "source": [
        "# function to overlap the heatmap and the real image\n",
        "\n",
        "def save_and_display_gradcam(img_path, heatmap, cam_path=\"cam.jpg\", alpha=0.4):\n",
        "    # Load the original image\n",
        "    img = keras.preprocessing.image.load_img(img_path)\n",
        "    img = keras.preprocessing.image.img_to_array(img)\n",
        "\n",
        "    # Rescale heatmap to a range 0-255\n",
        "    heatmap = np.uint8(255 * heatmap)\n",
        "\n",
        "    # Use jet colormap to colorize heatmap\n",
        "    jet = cm.get_cmap(\"jet\")\n",
        "\n",
        "    # Use RGB values of the colormap\n",
        "    jet_colors = jet(np.arange(256))[:, :3]\n",
        "    jet_heatmap = jet_colors[heatmap]\n",
        "\n",
        "    # Create an image with RGB colorized heatmap\n",
        "    jet_heatmap = keras.preprocessing.image.array_to_img(jet_heatmap)\n",
        "    jet_heatmap = jet_heatmap.resize((img.shape[1], img.shape[0]))\n",
        "    jet_heatmap = keras.preprocessing.image.img_to_array(jet_heatmap)\n",
        "\n",
        "    # Superimpose the heatmap on original image\n",
        "    superimposed_img = jet_heatmap * alpha + img\n",
        "    superimposed_img = keras.preprocessing.image.array_to_img(superimposed_img)\n",
        "\n",
        "    # Save the superimposed image\n",
        "    superimposed_img.save(cam_path)\n",
        "\n",
        "    # Display Grad CAM\n",
        "    display(Image(cam_path))"
      ],
      "metadata": {
        "id": "rb73DB9Oqna3"
      },
      "execution_count": 23,
      "outputs": []
    },
    {
      "cell_type": "code",
      "source": [
        "# Test in one image prodiction - define the parameters:\n",
        "\n",
        "# name form model.summary() of the last CNN layer\n",
        "last_conv_layer_name = 'feature_extraction_layer'\n",
        "\n",
        "# check one image sample\n",
        "# The local path to our target image\n",
        "img_path = '/content/images/cannoli/1007970.jpg'\n",
        "\n",
        "# Size of the training\n",
        "display(Image(filename=img_path, width=224, height=224))"
      ],
      "metadata": {
        "colab": {
          "base_uri": "https://localhost:8080/",
          "height": 241
        },
        "id": "3dwW_3RGqr-N",
        "outputId": "39b4bc89-951d-4953-a827-e086d6f4be6b"
      },
      "execution_count": 42,
      "outputs": [
        {
          "output_type": "display_data",
          "data": {
            "text/plain": [
              "<IPython.core.display.Image object>"
            ],
            "image/jpeg": "[encoded data removed]"
          },
          "metadata": {
            "image/jpeg": {
              "width": 224,
              "height": 224
            }
          }
        }
      ]
    },
    {
      "cell_type": "code",
      "source": [
        "# Display the image\n",
        "\n",
        "# Prepare image\n",
        "img_size = (224,224)\n",
        "img_array = get_img_array(img_path, size=img_size)\n",
        "\n",
        "\n",
        "# Remove last layer's softmax\n",
        "# model.layers[-1].activation = None\n",
        "\n",
        "# Print what the top predicted class is\n",
        "preds = efficientnet_model.predict(img_array)\n",
        "print(len(preds[0]))\n",
        "print(\"Predicted:\", list_class[np.argmax(preds[0])])\n",
        "\n",
        "# Generate class activation heatmap\n",
        "heatmap = make_gradcam_heatmap(img_array, efficientnet_model, last_conv_layer_name)\n",
        "\n",
        "# Display heatmap\n",
        "plt.matshow(heatmap)\n",
        "plt.show()\n",
        "\n",
        "save_and_display_gradcam(img_path, heatmap)"
      ],
      "metadata": {
        "colab": {
          "base_uri": "https://localhost:8080/",
          "height": 415
        },
        "id": "s7oWNagEq0MN",
        "outputId": "b0aca98f-cd66-4eff-951b-100fe42bb058"
      },
      "execution_count": 43,
      "outputs": [
        {
          "output_type": "stream",
          "name": "stdout",
          "text": [
            "101\n",
            "Predicted: paella\n"
          ]
        },
        {
          "output_type": "error",
          "ename": "InvalidArgumentError",
          "evalue": "ignored",
          "traceback": [
            "\u001b[0;31m---------------------------------------------------------------------------\u001b[0m",
            "\u001b[0;31mInvalidArgumentError\u001b[0m                      Traceback (most recent call last)",
            "\u001b[0;32m<ipython-input-43-1af00efdda8c>\u001b[0m in \u001b[0;36m<module>\u001b[0;34m()\u001b[0m\n\u001b[1;32m     15\u001b[0m \u001b[0;34m\u001b[0m\u001b[0m\n\u001b[1;32m     16\u001b[0m \u001b[0;31m# Generate class activation heatmap\u001b[0m\u001b[0;34m\u001b[0m\u001b[0;34m\u001b[0m\u001b[0;34m\u001b[0m\u001b[0m\n\u001b[0;32m---> 17\u001b[0;31m \u001b[0mheatmap\u001b[0m \u001b[0;34m=\u001b[0m \u001b[0mmake_gradcam_heatmap\u001b[0m\u001b[0;34m(\u001b[0m\u001b[0mimg_array\u001b[0m\u001b[0;34m,\u001b[0m \u001b[0mefficientnet_model\u001b[0m\u001b[0;34m,\u001b[0m \u001b[0mlast_conv_layer_name\u001b[0m\u001b[0;34m)\u001b[0m\u001b[0;34m\u001b[0m\u001b[0;34m\u001b[0m\u001b[0m\n\u001b[0m\u001b[1;32m     18\u001b[0m \u001b[0;34m\u001b[0m\u001b[0m\n\u001b[1;32m     19\u001b[0m \u001b[0;31m# Display heatmap\u001b[0m\u001b[0;34m\u001b[0m\u001b[0;34m\u001b[0m\u001b[0;34m\u001b[0m\u001b[0m\n",
            "\u001b[0;32m<ipython-input-22-7cf9d2c91281>\u001b[0m in \u001b[0;36mmake_gradcam_heatmap\u001b[0;34m(img_array, model, last_conv_layer_name, pred_index)\u001b[0m\n\u001b[1;32m     33\u001b[0m     \u001b[0;31m# This is a vector where each entry is the mean intensity of the gradient\u001b[0m\u001b[0;34m\u001b[0m\u001b[0;34m\u001b[0m\u001b[0;34m\u001b[0m\u001b[0m\n\u001b[1;32m     34\u001b[0m     \u001b[0;31m# over a specific feature map channel\u001b[0m\u001b[0;34m\u001b[0m\u001b[0;34m\u001b[0m\u001b[0;34m\u001b[0m\u001b[0m\n\u001b[0;32m---> 35\u001b[0;31m     \u001b[0mpooled_grads\u001b[0m \u001b[0;34m=\u001b[0m \u001b[0mtf\u001b[0m\u001b[0;34m.\u001b[0m\u001b[0mreduce_mean\u001b[0m\u001b[0;34m(\u001b[0m\u001b[0mgrads\u001b[0m\u001b[0;34m,\u001b[0m \u001b[0maxis\u001b[0m\u001b[0;34m=\u001b[0m\u001b[0;34m(\u001b[0m\u001b[0;36m0\u001b[0m\u001b[0;34m,\u001b[0m \u001b[0;36m1\u001b[0m\u001b[0;34m,\u001b[0m \u001b[0;36m2\u001b[0m\u001b[0;34m)\u001b[0m\u001b[0;34m)\u001b[0m\u001b[0;34m\u001b[0m\u001b[0;34m\u001b[0m\u001b[0m\n\u001b[0m\u001b[1;32m     36\u001b[0m \u001b[0;34m\u001b[0m\u001b[0m\n\u001b[1;32m     37\u001b[0m     \u001b[0;31m# We multiply each channel in the feature map array\u001b[0m\u001b[0;34m\u001b[0m\u001b[0;34m\u001b[0m\u001b[0;34m\u001b[0m\u001b[0m\n",
            "\u001b[0;32m/usr/local/lib/python3.7/dist-packages/tensorflow/python/util/traceback_utils.py\u001b[0m in \u001b[0;36merror_handler\u001b[0;34m(*args, **kwargs)\u001b[0m\n\u001b[1;32m    151\u001b[0m     \u001b[0;32mexcept\u001b[0m \u001b[0mException\u001b[0m \u001b[0;32mas\u001b[0m \u001b[0me\u001b[0m\u001b[0;34m:\u001b[0m\u001b[0;34m\u001b[0m\u001b[0;34m\u001b[0m\u001b[0m\n\u001b[1;32m    152\u001b[0m       \u001b[0mfiltered_tb\u001b[0m \u001b[0;34m=\u001b[0m \u001b[0m_process_traceback_frames\u001b[0m\u001b[0;34m(\u001b[0m\u001b[0me\u001b[0m\u001b[0;34m.\u001b[0m\u001b[0m__traceback__\u001b[0m\u001b[0;34m)\u001b[0m\u001b[0;34m\u001b[0m\u001b[0;34m\u001b[0m\u001b[0m\n\u001b[0;32m--> 153\u001b[0;31m       \u001b[0;32mraise\u001b[0m \u001b[0me\u001b[0m\u001b[0;34m.\u001b[0m\u001b[0mwith_traceback\u001b[0m\u001b[0;34m(\u001b[0m\u001b[0mfiltered_tb\u001b[0m\u001b[0;34m)\u001b[0m \u001b[0;32mfrom\u001b[0m \u001b[0;32mNone\u001b[0m\u001b[0;34m\u001b[0m\u001b[0;34m\u001b[0m\u001b[0m\n\u001b[0m\u001b[1;32m    154\u001b[0m     \u001b[0;32mfinally\u001b[0m\u001b[0;34m:\u001b[0m\u001b[0;34m\u001b[0m\u001b[0;34m\u001b[0m\u001b[0m\n\u001b[1;32m    155\u001b[0m       \u001b[0;32mdel\u001b[0m \u001b[0mfiltered_tb\u001b[0m\u001b[0;34m\u001b[0m\u001b[0;34m\u001b[0m\u001b[0m\n",
            "\u001b[0;32m/usr/local/lib/python3.7/dist-packages/tensorflow/python/eager/execute.py\u001b[0m in \u001b[0;36mquick_execute\u001b[0;34m(op_name, num_outputs, inputs, attrs, ctx, name)\u001b[0m\n\u001b[1;32m     53\u001b[0m     \u001b[0mctx\u001b[0m\u001b[0;34m.\u001b[0m\u001b[0mensure_initialized\u001b[0m\u001b[0;34m(\u001b[0m\u001b[0;34m)\u001b[0m\u001b[0;34m\u001b[0m\u001b[0;34m\u001b[0m\u001b[0m\n\u001b[1;32m     54\u001b[0m     tensors = pywrap_tfe.TFE_Py_Execute(ctx._handle, device_name, op_name,\n\u001b[0;32m---> 55\u001b[0;31m                                         inputs, attrs, num_outputs)\n\u001b[0m\u001b[1;32m     56\u001b[0m   \u001b[0;32mexcept\u001b[0m \u001b[0mcore\u001b[0m\u001b[0;34m.\u001b[0m\u001b[0m_NotOkStatusException\u001b[0m \u001b[0;32mas\u001b[0m \u001b[0me\u001b[0m\u001b[0;34m:\u001b[0m\u001b[0;34m\u001b[0m\u001b[0;34m\u001b[0m\u001b[0m\n\u001b[1;32m     57\u001b[0m     \u001b[0;32mif\u001b[0m \u001b[0mname\u001b[0m \u001b[0;32mis\u001b[0m \u001b[0;32mnot\u001b[0m \u001b[0;32mNone\u001b[0m\u001b[0;34m:\u001b[0m\u001b[0;34m\u001b[0m\u001b[0;34m\u001b[0m\u001b[0m\n",
            "\u001b[0;31mInvalidArgumentError\u001b[0m: Invalid reduction dimension (2 for input with 2 dimension(s) [Op:Mean]"
          ]
        }
      ]
    }
  ]
}