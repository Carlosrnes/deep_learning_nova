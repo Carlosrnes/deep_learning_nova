{
  "nbformat": 4,
  "nbformat_minor": 0,
  "metadata": {
    "colab": {
      "name": "CNN_Fine_Tuning_Transfer_Learning_v0.ipynb",
      "provenance": [],
      "authorship_tag": "ABX9TyNpFwag/eeEfj0/X/DB2rxh",
      "include_colab_link": true
    },
    "kernelspec": {
      "name": "python3",
      "display_name": "Python 3"
    },
    "language_info": {
      "name": "python"
    },
    "accelerator": "GPU"
  },
  "cells": [
    {
      "cell_type": "markdown",
      "metadata": {
        "id": "view-in-github",
        "colab_type": "text"
      },
      "source": [
        "<a href=\"https://colab.research.google.com/github/Carlosrnes/deep_learning_nova/blob/main/CNN/CNN_Fine_Tuning_Transfer_Learning_v0.ipynb\" target=\"_parent\"><img src=\"https://colab.research.google.com/assets/colab-badge.svg\" alt=\"Open In Colab\"/></a>"
      ]
    },
    {
      "cell_type": "markdown",
      "source": [
        "### GPU\n",
        "\n",
        "https://colab.research.google.com/notebooks/gpu.ipynb"
      ],
      "metadata": {
        "id": "o3J52twKqP4T"
      }
    },
    {
      "cell_type": "code",
      "execution_count": 1,
      "metadata": {
        "colab": {
          "base_uri": "https://localhost:8080/"
        },
        "id": "AI1ytyvTT2QU",
        "outputId": "da80fe95-bc30-46da-960b-60342d39084b"
      },
      "outputs": [
        {
          "output_type": "stream",
          "name": "stdout",
          "text": [
            "Wed Mar 30 18:13:11 2022       \n",
            "+-----------------------------------------------------------------------------+\n",
            "| NVIDIA-SMI 460.32.03    Driver Version: 460.32.03    CUDA Version: 11.2     |\n",
            "|-------------------------------+----------------------+----------------------+\n",
            "| GPU  Name        Persistence-M| Bus-Id        Disp.A | Volatile Uncorr. ECC |\n",
            "| Fan  Temp  Perf  Pwr:Usage/Cap|         Memory-Usage | GPU-Util  Compute M. |\n",
            "|                               |                      |               MIG M. |\n",
            "|===============================+======================+======================|\n",
            "|   0  Tesla K80           Off  | 00000000:00:04.0 Off |                    0 |\n",
            "| N/A   37C    P8    28W / 149W |      0MiB / 11441MiB |      0%      Default |\n",
            "|                               |                      |                  N/A |\n",
            "+-------------------------------+----------------------+----------------------+\n",
            "                                                                               \n",
            "+-----------------------------------------------------------------------------+\n",
            "| Processes:                                                                  |\n",
            "|  GPU   GI   CI        PID   Type   Process name                  GPU Memory |\n",
            "|        ID   ID                                                   Usage      |\n",
            "|=============================================================================|\n",
            "|  No running processes found                                                 |\n",
            "+-----------------------------------------------------------------------------+\n"
          ]
        }
      ],
      "source": [
        "!nvidia-smi"
      ]
    },
    {
      "cell_type": "markdown",
      "source": [
        "### How to Load Kaggle Datasets Directly into Google Colab?\n",
        "\n",
        "https://www.analyticsvidhya.com/blog/2021/06/how-to-load-kaggle-datasets-directly-into-google-colab/ "
      ],
      "metadata": {
        "id": "RE5pNeSbU5cs"
      }
    },
    {
      "cell_type": "code",
      "source": [
        "! pip install kaggle\n",
        "! mkdir ~/.kaggle\n",
        "! cp kaggle.json ~/.kaggle/\n",
        "! chmod 600 ~/.kaggle/kaggle.json\n",
        "\n",
        "# Download data\n",
        "! kaggle datasets download -d kmader/food41"
      ],
      "metadata": {
        "colab": {
          "base_uri": "https://localhost:8080/"
        },
        "id": "wGT6DKCGUARC",
        "outputId": "e98a1e21-ccc7-4472-8698-bb360e7c9cc8"
      },
      "execution_count": 2,
      "outputs": [
        {
          "output_type": "stream",
          "name": "stdout",
          "text": [
            "Requirement already satisfied: kaggle in /usr/local/lib/python3.7/dist-packages (1.5.12)\n",
            "Requirement already satisfied: python-slugify in /usr/local/lib/python3.7/dist-packages (from kaggle) (6.1.1)\n",
            "Requirement already satisfied: requests in /usr/local/lib/python3.7/dist-packages (from kaggle) (2.23.0)\n",
            "Requirement already satisfied: urllib3 in /usr/local/lib/python3.7/dist-packages (from kaggle) (1.24.3)\n",
            "Requirement already satisfied: certifi in /usr/local/lib/python3.7/dist-packages (from kaggle) (2021.10.8)\n",
            "Requirement already satisfied: tqdm in /usr/local/lib/python3.7/dist-packages (from kaggle) (4.63.0)\n",
            "Requirement already satisfied: six>=1.10 in /usr/local/lib/python3.7/dist-packages (from kaggle) (1.15.0)\n",
            "Requirement already satisfied: python-dateutil in /usr/local/lib/python3.7/dist-packages (from kaggle) (2.8.2)\n",
            "Requirement already satisfied: text-unidecode>=1.3 in /usr/local/lib/python3.7/dist-packages (from python-slugify->kaggle) (1.3)\n",
            "Requirement already satisfied: idna<3,>=2.5 in /usr/local/lib/python3.7/dist-packages (from requests->kaggle) (2.10)\n",
            "Requirement already satisfied: chardet<4,>=3.0.2 in /usr/local/lib/python3.7/dist-packages (from requests->kaggle) (3.0.4)\n",
            "Downloading food41.zip to /content\n",
            "100% 5.30G/5.30G [00:28<00:00, 214MB/s]\n",
            "100% 5.30G/5.30G [00:28<00:00, 200MB/s]\n"
          ]
        }
      ]
    },
    {
      "cell_type": "markdown",
      "source": [
        "### Libraries"
      ],
      "metadata": {
        "id": "HsZJYFSWVV_X"
      }
    },
    {
      "cell_type": "code",
      "source": [
        "import os, shutil\n",
        "import numpy as np\n",
        "import datetime\n",
        "import zipfile\n",
        "\n",
        "import matplotlib.pyplot as plt\n",
        "import matplotlib.cm as cm\n",
        "from IPython.display import Image, display\n",
        "\n",
        "import tensorflow as tf\n",
        "from tensorflow import keras\n",
        "from tensorflow.keras import models\n",
        "from tensorflow.keras import layers\n",
        "from tensorflow.keras.layers.experimental import preprocessing\n",
        "from tensorflow.keras.models import Sequential\n",
        "\n",
        "from tensorflow.keras import optimizers\n",
        "\n",
        "from tensorflow.keras.preprocessing.image import ImageDataGenerator\n",
        "\n",
        "from keras.preprocessing import image"
      ],
      "metadata": {
        "id": "8ZfpArzyVYw-"
      },
      "execution_count": 3,
      "outputs": []
    },
    {
      "cell_type": "markdown",
      "source": [
        "###  Get Data"
      ],
      "metadata": {
        "id": "KcTvDys1VGpT"
      }
    },
    {
      "cell_type": "code",
      "source": [
        "# Unzip the downloaded file\n",
        "zip_ref = zipfile.ZipFile(\"food41.zip\", \"r\")\n",
        "zip_ref.extractall()\n",
        "zip_ref.close()"
      ],
      "metadata": {
        "id": "EvNxTL2fVFV2"
      },
      "execution_count": 4,
      "outputs": []
    },
    {
      "cell_type": "code",
      "source": [
        "# Walk through 10 percent data directory and list number of files\n",
        "for dirpath, dirnames, filenames in os.walk(\"images\"):\n",
        "  print(f\"There are {len(dirnames)} directories and {len(filenames)} images in '{dirpath}'.\")"
      ],
      "metadata": {
        "id": "TOZsIF5NVUgd",
        "colab": {
          "base_uri": "https://localhost:8080/"
        },
        "outputId": "32707c42-d1dd-4361-c2f3-8a26126a2658"
      },
      "execution_count": 5,
      "outputs": [
        {
          "output_type": "stream",
          "name": "stdout",
          "text": [
            "There are 101 directories and 0 images in 'images'.\n",
            "There are 0 directories and 1000 images in 'images/chicken_wings'.\n",
            "There are 0 directories and 1000 images in 'images/seaweed_salad'.\n",
            "There are 0 directories and 1000 images in 'images/omelette'.\n",
            "There are 0 directories and 1000 images in 'images/escargots'.\n",
            "There are 0 directories and 1000 images in 'images/greek_salad'.\n",
            "There are 0 directories and 1000 images in 'images/cannoli'.\n",
            "There are 0 directories and 1000 images in 'images/fried_calamari'.\n",
            "There are 0 directories and 1000 images in 'images/clam_chowder'.\n",
            "There are 0 directories and 1000 images in 'images/apple_pie'.\n",
            "There are 0 directories and 1000 images in 'images/deviled_eggs'.\n",
            "There are 0 directories and 1000 images in 'images/pancakes'.\n",
            "There are 0 directories and 1000 images in 'images/guacamole'.\n",
            "There are 0 directories and 1000 images in 'images/bruschetta'.\n",
            "There are 0 directories and 1000 images in 'images/french_onion_soup'.\n",
            "There are 0 directories and 1000 images in 'images/foie_gras'.\n",
            "There are 0 directories and 1000 images in 'images/ramen'.\n",
            "There are 0 directories and 1000 images in 'images/mussels'.\n",
            "There are 0 directories and 1000 images in 'images/beet_salad'.\n",
            "There are 0 directories and 1000 images in 'images/filet_mignon'.\n",
            "There are 0 directories and 1000 images in 'images/falafel'.\n",
            "There are 0 directories and 1000 images in 'images/creme_brulee'.\n",
            "There are 0 directories and 1000 images in 'images/lobster_bisque'.\n",
            "There are 0 directories and 1000 images in 'images/miso_soup'.\n",
            "There are 0 directories and 1000 images in 'images/baklava'.\n",
            "There are 0 directories and 1000 images in 'images/shrimp_and_grits'.\n",
            "There are 0 directories and 1000 images in 'images/donuts'.\n",
            "There are 0 directories and 1000 images in 'images/pork_chop'.\n",
            "There are 0 directories and 1000 images in 'images/ice_cream'.\n",
            "There are 0 directories and 1000 images in 'images/paella'.\n",
            "There are 0 directories and 1000 images in 'images/dumplings'.\n",
            "There are 0 directories and 1000 images in 'images/tacos'.\n",
            "There are 0 directories and 1000 images in 'images/chocolate_mousse'.\n",
            "There are 0 directories and 1000 images in 'images/nachos'.\n",
            "There are 0 directories and 1000 images in 'images/croque_madame'.\n",
            "There are 0 directories and 1000 images in 'images/beignets'.\n",
            "There are 0 directories and 1000 images in 'images/lasagna'.\n",
            "There are 0 directories and 1000 images in 'images/ravioli'.\n",
            "There are 0 directories and 1000 images in 'images/risotto'.\n",
            "There are 0 directories and 1000 images in 'images/beef_tartare'.\n",
            "There are 0 directories and 1000 images in 'images/oysters'.\n",
            "There are 0 directories and 1000 images in 'images/red_velvet_cake'.\n",
            "There are 0 directories and 1000 images in 'images/hamburger'.\n",
            "There are 0 directories and 1000 images in 'images/club_sandwich'.\n",
            "There are 0 directories and 1000 images in 'images/bibimbap'.\n",
            "There are 0 directories and 1000 images in 'images/hot_and_sour_soup'.\n",
            "There are 0 directories and 1000 images in 'images/breakfast_burrito'.\n",
            "There are 0 directories and 1000 images in 'images/tuna_tartare'.\n",
            "There are 0 directories and 1000 images in 'images/french_toast'.\n",
            "There are 0 directories and 1000 images in 'images/samosa'.\n",
            "There are 0 directories and 1000 images in 'images/crab_cakes'.\n",
            "There are 0 directories and 1000 images in 'images/sushi'.\n",
            "There are 0 directories and 1000 images in 'images/beef_carpaccio'.\n",
            "There are 0 directories and 1000 images in 'images/eggs_benedict'.\n",
            "There are 0 directories and 1000 images in 'images/cup_cakes'.\n",
            "There are 0 directories and 1000 images in 'images/sashimi'.\n",
            "There are 0 directories and 1000 images in 'images/lobster_roll_sandwich'.\n",
            "There are 0 directories and 1000 images in 'images/chicken_quesadilla'.\n",
            "There are 0 directories and 1000 images in 'images/hot_dog'.\n",
            "There are 0 directories and 1000 images in 'images/takoyaki'.\n",
            "There are 0 directories and 1000 images in 'images/carrot_cake'.\n",
            "There are 0 directories and 1000 images in 'images/hummus'.\n",
            "There are 0 directories and 1000 images in 'images/baby_back_ribs'.\n",
            "There are 0 directories and 1000 images in 'images/fish_and_chips'.\n",
            "There are 0 directories and 1000 images in 'images/huevos_rancheros'.\n",
            "There are 0 directories and 1000 images in 'images/pulled_pork_sandwich'.\n",
            "There are 0 directories and 1000 images in 'images/frozen_yogurt'.\n",
            "There are 0 directories and 1000 images in 'images/gnocchi'.\n",
            "There are 0 directories and 1000 images in 'images/caprese_salad'.\n",
            "There are 0 directories and 1000 images in 'images/pad_thai'.\n",
            "There are 0 directories and 1000 images in 'images/panna_cotta'.\n",
            "There are 0 directories and 1000 images in 'images/caesar_salad'.\n",
            "There are 0 directories and 1000 images in 'images/spring_rolls'.\n",
            "There are 0 directories and 1000 images in 'images/poutine'.\n",
            "There are 0 directories and 1000 images in 'images/pizza'.\n",
            "There are 0 directories and 1000 images in 'images/macaroni_and_cheese'.\n",
            "There are 0 directories and 1000 images in 'images/fried_rice'.\n",
            "There are 0 directories and 1000 images in 'images/onion_rings'.\n",
            "There are 0 directories and 1000 images in 'images/bread_pudding'.\n",
            "There are 0 directories and 1000 images in 'images/waffles'.\n",
            "There are 0 directories and 1000 images in 'images/tiramisu'.\n",
            "There are 0 directories and 1000 images in 'images/garlic_bread'.\n",
            "There are 0 directories and 1000 images in 'images/edamame'.\n",
            "There are 0 directories and 1000 images in 'images/grilled_cheese_sandwich'.\n",
            "There are 0 directories and 1000 images in 'images/spaghetti_bolognese'.\n",
            "There are 0 directories and 1000 images in 'images/churros'.\n",
            "There are 0 directories and 1000 images in 'images/cheesecake'.\n",
            "There are 0 directories and 1000 images in 'images/strawberry_shortcake'.\n",
            "There are 0 directories and 1000 images in 'images/spaghetti_carbonara'.\n",
            "There are 0 directories and 1000 images in 'images/prime_rib'.\n",
            "There are 0 directories and 1000 images in 'images/pho'.\n",
            "There are 0 directories and 1000 images in 'images/chocolate_cake'.\n",
            "There are 0 directories and 1000 images in 'images/steak'.\n",
            "There are 0 directories and 1000 images in 'images/chicken_curry'.\n",
            "There are 0 directories and 1000 images in 'images/french_fries'.\n",
            "There are 0 directories and 1000 images in 'images/scallops'.\n",
            "There are 0 directories and 1000 images in 'images/gyoza'.\n",
            "There are 0 directories and 1000 images in 'images/grilled_salmon'.\n",
            "There are 0 directories and 1000 images in 'images/peking_duck'.\n",
            "There are 0 directories and 1000 images in 'images/ceviche'.\n",
            "There are 0 directories and 1000 images in 'images/cheese_plate'.\n",
            "There are 0 directories and 1000 images in 'images/macarons'.\n"
          ]
        }
      ]
    },
    {
      "cell_type": "code",
      "source": [
        "# select the directory of the images (divided by class folder) - without data augmentation\n",
        "data_folder = '/content/images'\n",
        "\n",
        "list_class = os.listdir(data_folder)\n",
        "list_class.sort()\n",
        "\n",
        "\n",
        "print(f'{len(list_class)} Classes of foods.')\n",
        "print(list_class)"
      ],
      "metadata": {
        "colab": {
          "base_uri": "https://localhost:8080/"
        },
        "id": "Mg-ROOhJW0rY",
        "outputId": "16727e82-76c1-4017-e508-81e72ab1024b"
      },
      "execution_count": 6,
      "outputs": [
        {
          "output_type": "stream",
          "name": "stdout",
          "text": [
            "101 Classes of foods.\n",
            "['apple_pie', 'baby_back_ribs', 'baklava', 'beef_carpaccio', 'beef_tartare', 'beet_salad', 'beignets', 'bibimbap', 'bread_pudding', 'breakfast_burrito', 'bruschetta', 'caesar_salad', 'cannoli', 'caprese_salad', 'carrot_cake', 'ceviche', 'cheese_plate', 'cheesecake', 'chicken_curry', 'chicken_quesadilla', 'chicken_wings', 'chocolate_cake', 'chocolate_mousse', 'churros', 'clam_chowder', 'club_sandwich', 'crab_cakes', 'creme_brulee', 'croque_madame', 'cup_cakes', 'deviled_eggs', 'donuts', 'dumplings', 'edamame', 'eggs_benedict', 'escargots', 'falafel', 'filet_mignon', 'fish_and_chips', 'foie_gras', 'french_fries', 'french_onion_soup', 'french_toast', 'fried_calamari', 'fried_rice', 'frozen_yogurt', 'garlic_bread', 'gnocchi', 'greek_salad', 'grilled_cheese_sandwich', 'grilled_salmon', 'guacamole', 'gyoza', 'hamburger', 'hot_and_sour_soup', 'hot_dog', 'huevos_rancheros', 'hummus', 'ice_cream', 'lasagna', 'lobster_bisque', 'lobster_roll_sandwich', 'macaroni_and_cheese', 'macarons', 'miso_soup', 'mussels', 'nachos', 'omelette', 'onion_rings', 'oysters', 'pad_thai', 'paella', 'pancakes', 'panna_cotta', 'peking_duck', 'pho', 'pizza', 'pork_chop', 'poutine', 'prime_rib', 'pulled_pork_sandwich', 'ramen', 'ravioli', 'red_velvet_cake', 'risotto', 'samosa', 'sashimi', 'scallops', 'seaweed_salad', 'shrimp_and_grits', 'spaghetti_bolognese', 'spaghetti_carbonara', 'spring_rolls', 'steak', 'strawberry_shortcake', 'sushi', 'tacos', 'takoyaki', 'tiramisu', 'tuna_tartare', 'waffles']\n"
          ]
        }
      ]
    },
    {
      "cell_type": "markdown",
      "source": [
        "### Data Preprocessing"
      ],
      "metadata": {
        "id": "1P3JUNpAYGDo"
      }
    },
    {
      "cell_type": "code",
      "source": [
        "# Set the seed\n",
        "tf.random.set_seed(42)\n",
        "\n",
        "IMAGE_SHAPE = (224, 224)\n",
        "BATCH_SIZE = 32\n",
        "\n",
        "# rescale the Image and split into validation set\n",
        "#datagen = ImageDataGenerator(rescale = 1./255, validation_split = 0.2)\n",
        "\n",
        "# train set - generation\n",
        "train_generator = tf.keras.preprocessing.image_dataset_from_directory(data_folder,\n",
        "                                         image_size = IMAGE_SHAPE,\n",
        "                                         batch_size = BATCH_SIZE,\n",
        "                                         validation_split = 0.2,\n",
        "                                         label_mode = 'categorical',\n",
        "                                         seed=42,\n",
        "                                         subset = 'training')\n",
        "\n",
        "val_generator = tf.keras.preprocessing.image_dataset_from_directory(data_folder,\n",
        "                                      image_size = IMAGE_SHAPE,\n",
        "                                      batch_size = BATCH_SIZE,\n",
        "                                      validation_split = 0.2,\n",
        "                                      label_mode = 'categorical',\n",
        "                                      seed=42,\n",
        "                                      subset = 'validation')"
      ],
      "metadata": {
        "colab": {
          "base_uri": "https://localhost:8080/"
        },
        "id": "AR2XnVT_YNx7",
        "outputId": "8595244c-d91e-4354-940d-00786c14f7ed"
      },
      "execution_count": 7,
      "outputs": [
        {
          "output_type": "stream",
          "name": "stdout",
          "text": [
            "Found 101000 files belonging to 101 classes.\n",
            "Using 80800 files for training.\n",
            "Found 101000 files belonging to 101 classes.\n",
            "Using 20200 files for validation.\n"
          ]
        }
      ]
    },
    {
      "cell_type": "code",
      "source": [
        "# Sanity Check\n",
        "for data_batch, labels_batch in train_generator:\n",
        "    print('data batch shape:', data_batch.shape)\n",
        "    print('labels batch shape:', labels_batch.shape)\n",
        "    break"
      ],
      "metadata": {
        "colab": {
          "base_uri": "https://localhost:8080/"
        },
        "id": "7ckURoLns4hB",
        "outputId": "f4c8cfde-e6d7-48b3-83e0-7c46c4e4faf6"
      },
      "execution_count": 8,
      "outputs": [
        {
          "output_type": "stream",
          "name": "stdout",
          "text": [
            "data batch shape: (32, 224, 224, 3)\n",
            "labels batch shape: (32, 101)\n"
          ]
        }
      ]
    },
    {
      "cell_type": "markdown",
      "source": [
        "### Creating a callback"
      ],
      "metadata": {
        "id": "nLhicEMT_dRV"
      }
    },
    {
      "cell_type": "code",
      "source": [
        "# Create tensorboard callback (functionized because need to create a new one for each model)\n",
        "def create_tensorboard_callback(dir_name, experiment_name):\n",
        "  log_dir = dir_name + \"/\" + experiment_name + \"/\" + datetime.datetime.now().strftime(\"%Y%m%d-%H%M%S\")\n",
        "  tensorboard_callback = tf.keras.callbacks.TensorBoard(\n",
        "      log_dir=log_dir\n",
        "  )\n",
        "  print(f\"Saving TensorBoard log files to: {log_dir}\")\n",
        "  return tensorboard_callback"
      ],
      "metadata": {
        "id": "ZyLoSNBs_V1C"
      },
      "execution_count": 9,
      "outputs": []
    },
    {
      "cell_type": "markdown",
      "source": [
        "### Plot function"
      ],
      "metadata": {
        "id": "KR8Oe67ADnYe"
      }
    },
    {
      "cell_type": "code",
      "source": [
        "# Plot the validation and training data separately\n",
        "def plot_loss_curves(history):\n",
        "  \"\"\"\n",
        "  Returns separate loss curves for training and validation metrics.\n",
        "  \"\"\" \n",
        "  loss = history.history['loss']\n",
        "  val_loss = history.history['val_loss']\n",
        "\n",
        "  accuracy = history.history['accuracy']\n",
        "  val_accuracy = history.history['val_accuracy']\n",
        "\n",
        "  epochs = range(len(history.history['loss']))\n",
        "\n",
        "  # Plot loss\n",
        "  plt.plot(epochs, loss, label='training_loss')\n",
        "  plt.plot(epochs, val_loss, label='val_loss')\n",
        "  plt.title('Loss')\n",
        "  plt.xlabel('Epochs')\n",
        "  plt.legend()\n",
        "\n",
        "  # Plot accuracy\n",
        "  plt.figure()\n",
        "  plt.plot(epochs, accuracy, label='training_accuracy')\n",
        "  plt.plot(epochs, val_accuracy, label='val_accuracy')\n",
        "  plt.title('Accuracy')\n",
        "  plt.xlabel('Epochs')\n",
        "  plt.legend();"
      ],
      "metadata": {
        "id": "IzHakFEODrl2"
      },
      "execution_count": 14,
      "outputs": []
    },
    {
      "cell_type": "markdown",
      "source": [
        "### Model 1 - Feature extraction with data augmentation "
      ],
      "metadata": {
        "id": "4moOapYR4bcq"
      }
    },
    {
      "cell_type": "code",
      "source": [
        "# Create a functional model based on EfficientNetB0 with data augmentation\n",
        "\n",
        "# Build data augmentation layer\n",
        "data_augmentation = Sequential([\n",
        "  preprocessing.RandomFlip('horizontal'),\n",
        "  preprocessing.RandomHeight(0.2),\n",
        "  preprocessing.RandomWidth(0.2),\n",
        "  preprocessing.RandomZoom(0.2),\n",
        "  preprocessing.RandomRotation(0.2),\n",
        "  # preprocessing.Rescaling(1./255) # keep for ResNet50V2, remove for EfficientNet                 \n",
        "], name=\"data_augmentation\")\n",
        "\n",
        "# Setup the input shape to our model\n",
        "input_shape = (224, 224, 3)\n",
        "\n",
        "# Create a frozen base model\n",
        "base_model = tf.keras.applications.EfficientNetB0(include_top=False)\n",
        "base_model.trainable = False\n",
        "\n",
        "# Create input and output layers\n",
        "inputs = layers.Input(shape=input_shape, name=\"input_layer\") # create input layer\n",
        "x = data_augmentation(inputs) # augment our training images\n",
        "x = base_model(x, training=False) # pass augmented images to base model but keep it in inference mode, so batchnorm layers don't get updated: https://keras.io/guides/transfer_learning/#build-a-model \n",
        "x = layers.GlobalAveragePooling2D(name=\"global_average_pooling_layer\")(x)\n",
        "outputs = layers.Dense(101, activation=\"softmax\", name=\"output_layer\")(x)\n",
        "model_1 = tf.keras.Model(inputs, outputs)\n",
        "\n",
        "# Compile\n",
        "model_1.compile(loss=\"categorical_crossentropy\",\n",
        "              optimizer=tf.keras.optimizers.Adam(learning_rate=0.001),\n",
        "              metrics=[\"accuracy\"])"
      ],
      "metadata": {
        "id": "h4g66sgABa11",
        "colab": {
          "base_uri": "https://localhost:8080/"
        },
        "outputId": "069991fc-8b47-403f-db1c-0801ff6de951"
      },
      "execution_count": 10,
      "outputs": [
        {
          "output_type": "stream",
          "name": "stdout",
          "text": [
            "Downloading data from https://storage.googleapis.com/keras-applications/efficientnetb0_notop.h5\n",
            "16711680/16705208 [==============================] - 0s 0us/step\n",
            "16719872/16705208 [==============================] - 0s 0us/step\n"
          ]
        }
      ]
    },
    {
      "cell_type": "code",
      "source": [
        "# Setup checkpoint path\n",
        "checkpoint_path = \"model_checkpoints_weights/checkpoint.ckpt\" # note: Colab is temporary\n",
        "\n",
        "# Create a ModelCheckpoint callback that saves the model's weights only\n",
        "checkpoint_callback = tf.keras.callbacks.ModelCheckpoint(filepath=checkpoint_path,\n",
        "                                                         save_weights_only=True, # set to False to save the entire model\n",
        "                                                         save_best_only=False, # set to True to save only the best model instead of a model every epoch \n",
        "                                                         save_freq=\"epoch\", # save every epoch\n",
        "                                                         verbose=1)"
      ],
      "metadata": {
        "id": "JidRJjYpPf9b"
      },
      "execution_count": 11,
      "outputs": []
    },
    {
      "cell_type": "code",
      "source": [
        "# Fit the model saving checkpoints every epoch\n",
        "initial_epochs = 5\n",
        "feature_extraction_data_aug = model_1.fit(train_generator,\n",
        "                                          epochs=initial_epochs,\n",
        "                                          validation_data=val_generator,\n",
        "                                          validation_steps=len(val_generator),\n",
        "                                          callbacks=[create_tensorboard_callback(\"transfer_learning\", \"model_data_aug\"), \n",
        "                                          checkpoint_callback])"
      ],
      "metadata": {
        "colab": {
          "base_uri": "https://localhost:8080/"
        },
        "id": "gq8JoL7RPmBe",
        "outputId": "c9442692-d487-4025-de12-e42e9c8095a3"
      },
      "execution_count": 12,
      "outputs": [
        {
          "output_type": "stream",
          "name": "stdout",
          "text": [
            "Saving TensorBoard log files to: transfer_learning/model_data_aug/20220330-181519\n",
            "Epoch 1/5\n",
            "2525/2525 [==============================] - ETA: 0s - loss: 2.1684 - accuracy: 0.4726\n",
            "Epoch 1: saving model to model_checkpoints_weights/checkpoint.ckpt\n",
            "2525/2525 [==============================] - 780s 301ms/step - loss: 2.1684 - accuracy: 0.4726 - val_loss: 1.5781 - val_accuracy: 0.5903\n",
            "Epoch 2/5\n",
            "2525/2525 [==============================] - ETA: 0s - loss: 1.6963 - accuracy: 0.5678\n",
            "Epoch 2: saving model to model_checkpoints_weights/checkpoint.ckpt\n",
            "2525/2525 [==============================] - 548s 217ms/step - loss: 1.6963 - accuracy: 0.5678 - val_loss: 1.4740 - val_accuracy: 0.6150\n",
            "Epoch 3/5\n",
            "2525/2525 [==============================] - ETA: 0s - loss: 1.5811 - accuracy: 0.5933\n",
            "Epoch 3: saving model to model_checkpoints_weights/checkpoint.ckpt\n",
            "2525/2525 [==============================] - 501s 198ms/step - loss: 1.5811 - accuracy: 0.5933 - val_loss: 1.4392 - val_accuracy: 0.6241\n",
            "Epoch 4/5\n",
            "2525/2525 [==============================] - ETA: 0s - loss: 1.5082 - accuracy: 0.6099\n",
            "Epoch 4: saving model to model_checkpoints_weights/checkpoint.ckpt\n",
            "2525/2525 [==============================] - 470s 186ms/step - loss: 1.5082 - accuracy: 0.6099 - val_loss: 1.4054 - val_accuracy: 0.6351\n",
            "Epoch 5/5\n",
            "2525/2525 [==============================] - ETA: 0s - loss: 1.4607 - accuracy: 0.6208\n",
            "Epoch 5: saving model to model_checkpoints_weights/checkpoint.ckpt\n",
            "2525/2525 [==============================] - 461s 183ms/step - loss: 1.4607 - accuracy: 0.6208 - val_loss: 1.4117 - val_accuracy: 0.6356\n"
          ]
        }
      ]
    },
    {
      "cell_type": "code",
      "source": [
        "# Plot model loss curves\n",
        "plot_loss_curves(feature_extraction_data_aug)"
      ],
      "metadata": {
        "colab": {
          "base_uri": "https://localhost:8080/",
          "height": 572
        },
        "id": "JrJ34ac5BpTd",
        "outputId": "52497e40-1403-4a03-df3a-705d5cb28e9c"
      },
      "execution_count": 16,
      "outputs": [
        {
          "output_type": "display_data",
          "data": {
            "text/plain": [
              "<Figure size 432x288 with 1 Axes>"
            ],
            "image/png": "[encoded data removed]"
          },
          "metadata": {
            "needs_background": "light"
          }
        },
        {
          "output_type": "display_data",
          "data": {
            "text/plain": [
              "<Figure size 432x288 with 1 Axes>"
            ],
            "image/png": "[encoded data removed]"
          },
          "metadata": {
            "needs_background": "light"
          }
        }
      ]
    },
    {
      "cell_type": "code",
      "source": [
        "# Load in saved model weights and evaluate model\n",
        "model_1.load_weights(checkpoint_path)\n",
        "loaded_weights_model_results = model_1.evaluate(val_generator)"
      ],
      "metadata": {
        "colab": {
          "base_uri": "https://localhost:8080/"
        },
        "id": "KUnY9nvffyo6",
        "outputId": "c6b0e27b-13ad-4b06-9fd4-b6aadc42bbaf"
      },
      "execution_count": 17,
      "outputs": [
        {
          "output_type": "stream",
          "name": "stdout",
          "text": [
            "632/632 [==============================] - 85s 134ms/step - loss: 1.4117 - accuracy: 0.6356\n"
          ]
        }
      ]
    },
    {
      "cell_type": "code",
      "source": [
        "# Layers in loaded model\n",
        "model_1.layers"
      ],
      "metadata": {
        "colab": {
          "base_uri": "https://localhost:8080/"
        },
        "id": "G0ylepd5gUDu",
        "outputId": "7192e1f8-b9d2-4d88-d423-51115be9f463"
      },
      "execution_count": 18,
      "outputs": [
        {
          "output_type": "execute_result",
          "data": {
            "text/plain": [
              "[<keras.engine.input_layer.InputLayer at 0x7fad8713dfd0>,\n",
              " <keras.engine.sequential.Sequential at 0x7fad8713ddd0>,\n",
              " <keras.engine.functional.Functional at 0x7fae00061bd0>,\n",
              " <keras.layers.pooling.GlobalAveragePooling2D at 0x7fae0006fc10>,\n",
              " <keras.layers.core.dense.Dense at 0x7fae075e1b10>]"
            ]
          },
          "metadata": {},
          "execution_count": 18
        }
      ]
    },
    {
      "cell_type": "code",
      "source": [
        "for layer in model_1.layers:\n",
        "  print(layer.trainable)"
      ],
      "metadata": {
        "colab": {
          "base_uri": "https://localhost:8080/"
        },
        "id": "eO-q1sttgVrR",
        "outputId": "7b977497-dcd5-4c5e-b6c6-ec1d8c11c6c4"
      },
      "execution_count": 19,
      "outputs": [
        {
          "output_type": "stream",
          "name": "stdout",
          "text": [
            "True\n",
            "True\n",
            "False\n",
            "True\n",
            "True\n"
          ]
        }
      ]
    },
    {
      "cell_type": "code",
      "source": [
        "model_1.summary()"
      ],
      "metadata": {
        "colab": {
          "base_uri": "https://localhost:8080/"
        },
        "id": "sc4Hz2_BgakU",
        "outputId": "f051f9fd-c3ba-4736-a959-aa226760249e"
      },
      "execution_count": 20,
      "outputs": [
        {
          "output_type": "stream",
          "name": "stdout",
          "text": [
            "Model: \"model\"\n",
            "_________________________________________________________________\n",
            " Layer (type)                Output Shape              Param #   \n",
            "=================================================================\n",
            " input_layer (InputLayer)    [(None, 224, 224, 3)]     0         \n",
            "                                                                 \n",
            " data_augmentation (Sequenti  (None, 224, 224, 3)      0         \n",
            " al)                                                             \n",
            "                                                                 \n",
            " efficientnetb0 (Functional)  (None, None, None, 1280)  4049571  \n",
            "                                                                 \n",
            " global_average_pooling_laye  (None, 1280)             0         \n",
            " r (GlobalAveragePooling2D)                                      \n",
            "                                                                 \n",
            " output_layer (Dense)        (None, 101)               129381    \n",
            "                                                                 \n",
            "=================================================================\n",
            "Total params: 4,178,952\n",
            "Trainable params: 129,381\n",
            "Non-trainable params: 4,049,571\n",
            "_________________________________________________________________\n"
          ]
        }
      ]
    },
    {
      "cell_type": "markdown",
      "source": [
        "### Model 2 feature extracting and fine tuning with data augmentation"
      ],
      "metadata": {
        "id": "nGj2__0cgFR2"
      }
    },
    {
      "cell_type": "code",
      "source": [
        "base_model.trainable = True\n",
        "\n",
        "# Freeze all layers except for the\n",
        "for layer in base_model.layers[:-10]:\n",
        "  layer.trainable = False\n",
        "\n",
        "# Recompile the model (always recompile after any adjustments to a model)\n",
        "model_1.compile(loss=\"categorical_crossentropy\",\n",
        "              optimizer=tf.keras.optimizers.Adam(learning_rate=0.0001), # learning rate is 10x lower than before for fine-tuning\n",
        "              metrics=[\"accuracy\"])"
      ],
      "metadata": {
        "id": "kGNHEomCgu6j"
      },
      "execution_count": 21,
      "outputs": []
    },
    {
      "cell_type": "code",
      "source": [
        "# Check which layers are tuneable (trainable)\n",
        "for layer_number, layer in enumerate(base_model.layers):\n",
        "  print(layer_number, layer.name, layer.trainable)"
      ],
      "metadata": {
        "id": "lCh38xeygymb",
        "colab": {
          "base_uri": "https://localhost:8080/"
        },
        "outputId": "00feaa0e-b402-4576-b833-9b4876dca906"
      },
      "execution_count": 22,
      "outputs": [
        {
          "output_type": "stream",
          "name": "stdout",
          "text": [
            "0 input_1 False\n",
            "1 rescaling False\n",
            "2 normalization False\n",
            "3 stem_conv_pad False\n",
            "4 stem_conv False\n",
            "5 stem_bn False\n",
            "6 stem_activation False\n",
            "7 block1a_dwconv False\n",
            "8 block1a_bn False\n",
            "9 block1a_activation False\n",
            "10 block1a_se_squeeze False\n",
            "11 block1a_se_reshape False\n",
            "12 block1a_se_reduce False\n",
            "13 block1a_se_expand False\n",
            "14 block1a_se_excite False\n",
            "15 block1a_project_conv False\n",
            "16 block1a_project_bn False\n",
            "17 block2a_expand_conv False\n",
            "18 block2a_expand_bn False\n",
            "19 block2a_expand_activation False\n",
            "20 block2a_dwconv_pad False\n",
            "21 block2a_dwconv False\n",
            "22 block2a_bn False\n",
            "23 block2a_activation False\n",
            "24 block2a_se_squeeze False\n",
            "25 block2a_se_reshape False\n",
            "26 block2a_se_reduce False\n",
            "27 block2a_se_expand False\n",
            "28 block2a_se_excite False\n",
            "29 block2a_project_conv False\n",
            "30 block2a_project_bn False\n",
            "31 block2b_expand_conv False\n",
            "32 block2b_expand_bn False\n",
            "33 block2b_expand_activation False\n",
            "34 block2b_dwconv False\n",
            "35 block2b_bn False\n",
            "36 block2b_activation False\n",
            "37 block2b_se_squeeze False\n",
            "38 block2b_se_reshape False\n",
            "39 block2b_se_reduce False\n",
            "40 block2b_se_expand False\n",
            "41 block2b_se_excite False\n",
            "42 block2b_project_conv False\n",
            "43 block2b_project_bn False\n",
            "44 block2b_drop False\n",
            "45 block2b_add False\n",
            "46 block3a_expand_conv False\n",
            "47 block3a_expand_bn False\n",
            "48 block3a_expand_activation False\n",
            "49 block3a_dwconv_pad False\n",
            "50 block3a_dwconv False\n",
            "51 block3a_bn False\n",
            "52 block3a_activation False\n",
            "53 block3a_se_squeeze False\n",
            "54 block3a_se_reshape False\n",
            "55 block3a_se_reduce False\n",
            "56 block3a_se_expand False\n",
            "57 block3a_se_excite False\n",
            "58 block3a_project_conv False\n",
            "59 block3a_project_bn False\n",
            "60 block3b_expand_conv False\n",
            "61 block3b_expand_bn False\n",
            "62 block3b_expand_activation False\n",
            "63 block3b_dwconv False\n",
            "64 block3b_bn False\n",
            "65 block3b_activation False\n",
            "66 block3b_se_squeeze False\n",
            "67 block3b_se_reshape False\n",
            "68 block3b_se_reduce False\n",
            "69 block3b_se_expand False\n",
            "70 block3b_se_excite False\n",
            "71 block3b_project_conv False\n",
            "72 block3b_project_bn False\n",
            "73 block3b_drop False\n",
            "74 block3b_add False\n",
            "75 block4a_expand_conv False\n",
            "76 block4a_expand_bn False\n",
            "77 block4a_expand_activation False\n",
            "78 block4a_dwconv_pad False\n",
            "79 block4a_dwconv False\n",
            "80 block4a_bn False\n",
            "81 block4a_activation False\n",
            "82 block4a_se_squeeze False\n",
            "83 block4a_se_reshape False\n",
            "84 block4a_se_reduce False\n",
            "85 block4a_se_expand False\n",
            "86 block4a_se_excite False\n",
            "87 block4a_project_conv False\n",
            "88 block4a_project_bn False\n",
            "89 block4b_expand_conv False\n",
            "90 block4b_expand_bn False\n",
            "91 block4b_expand_activation False\n",
            "92 block4b_dwconv False\n",
            "93 block4b_bn False\n",
            "94 block4b_activation False\n",
            "95 block4b_se_squeeze False\n",
            "96 block4b_se_reshape False\n",
            "97 block4b_se_reduce False\n",
            "98 block4b_se_expand False\n",
            "99 block4b_se_excite False\n",
            "100 block4b_project_conv False\n",
            "101 block4b_project_bn False\n",
            "102 block4b_drop False\n",
            "103 block4b_add False\n",
            "104 block4c_expand_conv False\n",
            "105 block4c_expand_bn False\n",
            "106 block4c_expand_activation False\n",
            "107 block4c_dwconv False\n",
            "108 block4c_bn False\n",
            "109 block4c_activation False\n",
            "110 block4c_se_squeeze False\n",
            "111 block4c_se_reshape False\n",
            "112 block4c_se_reduce False\n",
            "113 block4c_se_expand False\n",
            "114 block4c_se_excite False\n",
            "115 block4c_project_conv False\n",
            "116 block4c_project_bn False\n",
            "117 block4c_drop False\n",
            "118 block4c_add False\n",
            "119 block5a_expand_conv False\n",
            "120 block5a_expand_bn False\n",
            "121 block5a_expand_activation False\n",
            "122 block5a_dwconv False\n",
            "123 block5a_bn False\n",
            "124 block5a_activation False\n",
            "125 block5a_se_squeeze False\n",
            "126 block5a_se_reshape False\n",
            "127 block5a_se_reduce False\n",
            "128 block5a_se_expand False\n",
            "129 block5a_se_excite False\n",
            "130 block5a_project_conv False\n",
            "131 block5a_project_bn False\n",
            "132 block5b_expand_conv False\n",
            "133 block5b_expand_bn False\n",
            "134 block5b_expand_activation False\n",
            "135 block5b_dwconv False\n",
            "136 block5b_bn False\n",
            "137 block5b_activation False\n",
            "138 block5b_se_squeeze False\n",
            "139 block5b_se_reshape False\n",
            "140 block5b_se_reduce False\n",
            "141 block5b_se_expand False\n",
            "142 block5b_se_excite False\n",
            "143 block5b_project_conv False\n",
            "144 block5b_project_bn False\n",
            "145 block5b_drop False\n",
            "146 block5b_add False\n",
            "147 block5c_expand_conv False\n",
            "148 block5c_expand_bn False\n",
            "149 block5c_expand_activation False\n",
            "150 block5c_dwconv False\n",
            "151 block5c_bn False\n",
            "152 block5c_activation False\n",
            "153 block5c_se_squeeze False\n",
            "154 block5c_se_reshape False\n",
            "155 block5c_se_reduce False\n",
            "156 block5c_se_expand False\n",
            "157 block5c_se_excite False\n",
            "158 block5c_project_conv False\n",
            "159 block5c_project_bn False\n",
            "160 block5c_drop False\n",
            "161 block5c_add False\n",
            "162 block6a_expand_conv False\n",
            "163 block6a_expand_bn False\n",
            "164 block6a_expand_activation False\n",
            "165 block6a_dwconv_pad False\n",
            "166 block6a_dwconv False\n",
            "167 block6a_bn False\n",
            "168 block6a_activation False\n",
            "169 block6a_se_squeeze False\n",
            "170 block6a_se_reshape False\n",
            "171 block6a_se_reduce False\n",
            "172 block6a_se_expand False\n",
            "173 block6a_se_excite False\n",
            "174 block6a_project_conv False\n",
            "175 block6a_project_bn False\n",
            "176 block6b_expand_conv False\n",
            "177 block6b_expand_bn False\n",
            "178 block6b_expand_activation False\n",
            "179 block6b_dwconv False\n",
            "180 block6b_bn False\n",
            "181 block6b_activation False\n",
            "182 block6b_se_squeeze False\n",
            "183 block6b_se_reshape False\n",
            "184 block6b_se_reduce False\n",
            "185 block6b_se_expand False\n",
            "186 block6b_se_excite False\n",
            "187 block6b_project_conv False\n",
            "188 block6b_project_bn False\n",
            "189 block6b_drop False\n",
            "190 block6b_add False\n",
            "191 block6c_expand_conv False\n",
            "192 block6c_expand_bn False\n",
            "193 block6c_expand_activation False\n",
            "194 block6c_dwconv False\n",
            "195 block6c_bn False\n",
            "196 block6c_activation False\n",
            "197 block6c_se_squeeze False\n",
            "198 block6c_se_reshape False\n",
            "199 block6c_se_reduce False\n",
            "200 block6c_se_expand False\n",
            "201 block6c_se_excite False\n",
            "202 block6c_project_conv False\n",
            "203 block6c_project_bn False\n",
            "204 block6c_drop False\n",
            "205 block6c_add False\n",
            "206 block6d_expand_conv False\n",
            "207 block6d_expand_bn False\n",
            "208 block6d_expand_activation False\n",
            "209 block6d_dwconv False\n",
            "210 block6d_bn False\n",
            "211 block6d_activation False\n",
            "212 block6d_se_squeeze False\n",
            "213 block6d_se_reshape False\n",
            "214 block6d_se_reduce False\n",
            "215 block6d_se_expand False\n",
            "216 block6d_se_excite False\n",
            "217 block6d_project_conv False\n",
            "218 block6d_project_bn False\n",
            "219 block6d_drop False\n",
            "220 block6d_add False\n",
            "221 block7a_expand_conv False\n",
            "222 block7a_expand_bn False\n",
            "223 block7a_expand_activation False\n",
            "224 block7a_dwconv False\n",
            "225 block7a_bn False\n",
            "226 block7a_activation False\n",
            "227 block7a_se_squeeze True\n",
            "228 block7a_se_reshape True\n",
            "229 block7a_se_reduce True\n",
            "230 block7a_se_expand True\n",
            "231 block7a_se_excite True\n",
            "232 block7a_project_conv True\n",
            "233 block7a_project_bn True\n",
            "234 top_conv True\n",
            "235 top_bn True\n",
            "236 top_activation True\n"
          ]
        }
      ]
    },
    {
      "cell_type": "code",
      "source": [
        "# Fine tune for another 5 epochs\n",
        "fine_tune_epochs = initial_epochs + 5\n",
        "\n",
        "# Refit the model (same as model_2 except with more trainable layers)\n",
        "model_fine_data_aug = model_1.fit(train_generator,\n",
        "                                  epochs=fine_tune_epochs,\n",
        "                                  validation_data=val_generator,\n",
        "                                  initial_epoch=feature_extraction_data_aug.epoch[-1], # start from previous last epoch\n",
        "                                  validation_steps=len(val_generator),\n",
        "                                  callbacks=[create_tensorboard_callback(\"transfer_learning\", \"fine_tune_feature_extracting\")]) # name experiment appropriately\n"
      ],
      "metadata": {
        "colab": {
          "base_uri": "https://localhost:8080/"
        },
        "id": "bAdVzQ9Gg3UG",
        "outputId": "1613fba1-095b-415e-8cba-e16f3f347c81"
      },
      "execution_count": 23,
      "outputs": [
        {
          "output_type": "stream",
          "name": "stdout",
          "text": [
            "Saving TensorBoard log files to: transfer_learning/fine_tune_feature_extracting/20220330-190357\n",
            "Epoch 5/10\n",
            "2525/2525 [==============================] - 480s 186ms/step - loss: 1.3289 - accuracy: 0.6511 - val_loss: 1.3199 - val_accuracy: 0.6608\n",
            "Epoch 6/10\n",
            "2525/2525 [==============================] - 463s 183ms/step - loss: 1.2172 - accuracy: 0.6777 - val_loss: 1.2764 - val_accuracy: 0.6721\n",
            "Epoch 7/10\n",
            "2525/2525 [==============================] - 459s 182ms/step - loss: 1.1477 - accuracy: 0.6923 - val_loss: 1.2739 - val_accuracy: 0.6728\n",
            "Epoch 8/10\n",
            "2525/2525 [==============================] - 458s 181ms/step - loss: 1.0874 - accuracy: 0.7070 - val_loss: 1.2524 - val_accuracy: 0.6786\n",
            "Epoch 9/10\n",
            "2525/2525 [==============================] - 457s 181ms/step - loss: 1.0406 - accuracy: 0.7191 - val_loss: 1.2375 - val_accuracy: 0.6834\n",
            "Epoch 10/10\n",
            "2525/2525 [==============================] - 453s 179ms/step - loss: 0.9966 - accuracy: 0.7278 - val_loss: 1.2409 - val_accuracy: 0.6847\n"
          ]
        }
      ]
    },
    {
      "cell_type": "code",
      "source": [
        "def compare_historys(original_history, new_history, initial_epochs=5):\n",
        "    \"\"\"\n",
        "    Compares two model history objects.\n",
        "    \"\"\"\n",
        "    # Get original history measurements\n",
        "    acc = original_history.history[\"accuracy\"]\n",
        "    loss = original_history.history[\"loss\"]\n",
        "\n",
        "    print(len(acc))\n",
        "\n",
        "    val_acc = original_history.history[\"val_accuracy\"]\n",
        "    val_loss = original_history.history[\"val_loss\"]\n",
        "\n",
        "    # Combine original history with new history\n",
        "    total_acc = acc + new_history.history[\"accuracy\"]\n",
        "    total_loss = loss + new_history.history[\"loss\"]\n",
        "\n",
        "    total_val_acc = val_acc + new_history.history[\"val_accuracy\"]\n",
        "    total_val_loss = val_loss + new_history.history[\"val_loss\"]\n",
        "\n",
        "    print(len(total_acc))\n",
        "    print(total_acc)\n",
        "\n",
        "    # Make plots\n",
        "    plt.figure(figsize=(8, 8))\n",
        "    plt.subplot(2, 1, 1)\n",
        "    plt.plot(total_acc, label='Training Accuracy')\n",
        "    plt.plot(total_val_acc, label='Validation Accuracy')\n",
        "    plt.plot([initial_epochs-1, initial_epochs-1],\n",
        "              plt.ylim(), label='Start Fine Tuning') # reshift plot around epochs\n",
        "    plt.legend(loc='lower right')\n",
        "    plt.title('Training and Validation Accuracy')\n",
        "\n",
        "    plt.subplot(2, 1, 2)\n",
        "    plt.plot(total_loss, label='Training Loss')\n",
        "    plt.plot(total_val_loss, label='Validation Loss')\n",
        "    plt.plot([initial_epochs-1, initial_epochs-1],\n",
        "              plt.ylim(), label='Start Fine Tuning') # reshift plot around epochs\n",
        "    plt.legend(loc='upper right')\n",
        "    plt.title('Training and Validation Loss')\n",
        "    plt.xlabel('epoch')\n",
        "    plt.show()"
      ],
      "metadata": {
        "id": "6eKx0hsMhaqt"
      },
      "execution_count": 24,
      "outputs": []
    },
    {
      "cell_type": "code",
      "source": [
        "compare_historys(original_history=feature_extraction_data_aug, \n",
        "                 new_history=model_fine_data_aug, \n",
        "                 initial_epochs=5)"
      ],
      "metadata": {
        "id": "Fx_iYvxPhbXE",
        "colab": {
          "base_uri": "https://localhost:8080/",
          "height": 585
        },
        "outputId": "e6d4c3de-73ab-4b65-d715-f01e3a78477a"
      },
      "execution_count": 25,
      "outputs": [
        {
          "output_type": "stream",
          "name": "stdout",
          "text": [
            "5\n",
            "11\n",
            "[0.4726485013961792, 0.5678341388702393, 0.5933291912078857, 0.6099257469177246, 0.6208415627479553, 0.6511138677597046, 0.6776856184005737, 0.6923143267631531, 0.7070420980453491, 0.7190718054771423, 0.727834165096283]\n"
          ]
        },
        {
          "output_type": "display_data",
          "data": {
            "text/plain": [
              "<Figure size 576x576 with 2 Axes>"
            ],
            "image/png": "[encoded data removed]"
          },
          "metadata": {
            "needs_background": "light"
          }
        }
      ]
    }
  ]
}