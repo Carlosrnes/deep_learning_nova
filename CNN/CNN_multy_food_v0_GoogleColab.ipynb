{
  "nbformat": 4,
  "nbformat_minor": 0,
  "metadata": {
    "colab": {
      "name": "CNN_v0.ipynb",
      "provenance": [],
      "authorship_tag": "ABX9TyOkoYvEB5NbTKplJyBnUXT1",
      "include_colab_link": true
    },
    "kernelspec": {
      "name": "python3",
      "display_name": "Python 3"
    },
    "language_info": {
      "name": "python"
    },
    "accelerator": "GPU"
  },
  "cells": [
    {
      "cell_type": "markdown",
      "metadata": {
        "id": "view-in-github",
        "colab_type": "text"
      },
      "source": [
        "<a href=\"https://colab.research.google.com/github/Carlosrnes/deep_learning_nova/blob/main/CNN/CNN_multy_food_v0_GoogleColab.ipynb\" target=\"_parent\"><img src=\"https://colab.research.google.com/assets/colab-badge.svg\" alt=\"Open In Colab\"/></a>"
      ]
    },
    {
      "cell_type": "markdown",
      "source": [
        "### GPU\n",
        "\n",
        "https://colab.research.google.com/notebooks/gpu.ipynb"
      ],
      "metadata": {
        "id": "o3J52twKqP4T"
      }
    },
    {
      "cell_type": "code",
      "execution_count": 1,
      "metadata": {
        "colab": {
          "base_uri": "https://localhost:8080/"
        },
        "id": "AI1ytyvTT2QU",
        "outputId": "3e72488a-7703-43ad-ce2f-c812189078ac"
      },
      "outputs": [
        {
          "output_type": "stream",
          "name": "stdout",
          "text": [
            "NVIDIA-SMI has failed because it couldn't communicate with the NVIDIA driver. Make sure that the latest NVIDIA driver is installed and running.\n",
            "\n"
          ]
        }
      ],
      "source": [
        "!nvidia-smi"
      ]
    },
    {
      "cell_type": "markdown",
      "source": [
        "### How to Load Kaggle Datasets Directly into Google Colab?\n",
        "\n",
        "https://www.analyticsvidhya.com/blog/2021/06/how-to-load-kaggle-datasets-directly-into-google-colab/ "
      ],
      "metadata": {
        "id": "RE5pNeSbU5cs"
      }
    },
    {
      "cell_type": "code",
      "source": [
        "! pip install kaggle\n",
        "! mkdir ~/.kaggle\n",
        "! cp kaggle.json ~/.kaggle/\n",
        "! chmod 600 ~/.kaggle/kaggle.json\n",
        "\n",
        "# Download data\n",
        "! kaggle datasets download -d kmader/food41"
      ],
      "metadata": {
        "colab": {
          "base_uri": "https://localhost:8080/"
        },
        "id": "wGT6DKCGUARC",
        "outputId": "a8bed35b-f8ac-4f21-b644-ce1fc746ba5c"
      },
      "execution_count": 2,
      "outputs": [
        {
          "output_type": "stream",
          "name": "stdout",
          "text": [
            "Requirement already satisfied: kaggle in /usr/local/lib/python3.7/dist-packages (1.5.12)\n",
            "Requirement already satisfied: urllib3 in /usr/local/lib/python3.7/dist-packages (from kaggle) (1.24.3)\n",
            "Requirement already satisfied: certifi in /usr/local/lib/python3.7/dist-packages (from kaggle) (2021.10.8)\n",
            "Requirement already satisfied: python-dateutil in /usr/local/lib/python3.7/dist-packages (from kaggle) (2.8.2)\n",
            "Requirement already satisfied: six>=1.10 in /usr/local/lib/python3.7/dist-packages (from kaggle) (1.15.0)\n",
            "Requirement already satisfied: python-slugify in /usr/local/lib/python3.7/dist-packages (from kaggle) (6.1.1)\n",
            "Requirement already satisfied: tqdm in /usr/local/lib/python3.7/dist-packages (from kaggle) (4.63.0)\n",
            "Requirement already satisfied: requests in /usr/local/lib/python3.7/dist-packages (from kaggle) (2.23.0)\n",
            "Requirement already satisfied: text-unidecode>=1.3 in /usr/local/lib/python3.7/dist-packages (from python-slugify->kaggle) (1.3)\n",
            "Requirement already satisfied: chardet<4,>=3.0.2 in /usr/local/lib/python3.7/dist-packages (from requests->kaggle) (3.0.4)\n",
            "Requirement already satisfied: idna<3,>=2.5 in /usr/local/lib/python3.7/dist-packages (from requests->kaggle) (2.10)\n",
            "Downloading food41.zip to /content\n",
            "100% 5.29G/5.30G [00:26<00:00, 207MB/s]\n",
            "100% 5.30G/5.30G [00:26<00:00, 214MB/s]\n"
          ]
        }
      ]
    },
    {
      "cell_type": "markdown",
      "source": [
        "### Libraries"
      ],
      "metadata": {
        "id": "HsZJYFSWVV_X"
      }
    },
    {
      "cell_type": "code",
      "source": [
        "import os, shutil\n",
        "import numpy as np\n",
        "\n",
        "import matplotlib.pyplot as plt\n",
        "import matplotlib.cm as cm\n",
        "from IPython.display import Image, display\n",
        "\n",
        "import tensorflow as tf\n",
        "from tensorflow import keras\n",
        "from tensorflow.keras import models\n",
        "from tensorflow.keras import layers\n",
        "\n",
        "from tensorflow.keras import optimizers\n",
        "\n",
        "from tensorflow.keras.preprocessing.image import ImageDataGenerator\n",
        "\n",
        "from keras.preprocessing import image"
      ],
      "metadata": {
        "id": "8ZfpArzyVYw-"
      },
      "execution_count": 13,
      "outputs": []
    },
    {
      "cell_type": "markdown",
      "source": [
        "###  Get Data"
      ],
      "metadata": {
        "id": "KcTvDys1VGpT"
      }
    },
    {
      "cell_type": "code",
      "source": [
        "# Get data\n",
        "import zipfile\n",
        "\n",
        "# Unzip the downloaded file\n",
        "zip_ref = zipfile.ZipFile(\"food41.zip\", \"r\")\n",
        "zip_ref.extractall()\n",
        "zip_ref.close()"
      ],
      "metadata": {
        "id": "EvNxTL2fVFV2"
      },
      "execution_count": 3,
      "outputs": []
    },
    {
      "cell_type": "code",
      "source": [
        "# How many images in each folder?\n",
        "import os\n",
        "\n",
        "# Walk through 10 percent data directory and list number of files\n",
        "for dirpath, dirnames, filenames in os.walk(\"images\"):\n",
        "  print(f\"There are {len(dirnames)} directories and {len(filenames)} images in '{dirpath}'.\")"
      ],
      "metadata": {
        "colab": {
          "base_uri": "https://localhost:8080/"
        },
        "id": "TOZsIF5NVUgd",
        "outputId": "e2a93a50-dfc0-49b3-bdad-ce0b74518fbe"
      },
      "execution_count": 11,
      "outputs": [
        {
          "output_type": "stream",
          "name": "stdout",
          "text": [
            "There are 101 directories and 0 images in 'images'.\n",
            "There are 0 directories and 1000 images in 'images/gyoza'.\n",
            "There are 0 directories and 1000 images in 'images/waffles'.\n",
            "There are 0 directories and 1000 images in 'images/beef_carpaccio'.\n",
            "There are 0 directories and 1000 images in 'images/croque_madame'.\n",
            "There are 0 directories and 1000 images in 'images/eggs_benedict'.\n",
            "There are 0 directories and 1000 images in 'images/bibimbap'.\n",
            "There are 0 directories and 1000 images in 'images/filet_mignon'.\n",
            "There are 0 directories and 1000 images in 'images/mussels'.\n",
            "There are 0 directories and 1000 images in 'images/fried_calamari'.\n",
            "There are 0 directories and 1000 images in 'images/greek_salad'.\n",
            "There are 0 directories and 1000 images in 'images/bread_pudding'.\n",
            "There are 0 directories and 1000 images in 'images/falafel'.\n",
            "There are 0 directories and 1000 images in 'images/ramen'.\n",
            "There are 0 directories and 1000 images in 'images/sashimi'.\n",
            "There are 0 directories and 1000 images in 'images/dumplings'.\n",
            "There are 0 directories and 1000 images in 'images/sushi'.\n",
            "There are 0 directories and 1000 images in 'images/oysters'.\n",
            "There are 0 directories and 1000 images in 'images/lasagna'.\n",
            "There are 0 directories and 1000 images in 'images/chicken_wings'.\n",
            "There are 0 directories and 1000 images in 'images/macarons'.\n",
            "There are 0 directories and 1000 images in 'images/seaweed_salad'.\n",
            "There are 0 directories and 1000 images in 'images/creme_brulee'.\n",
            "There are 0 directories and 1000 images in 'images/caprese_salad'.\n",
            "There are 0 directories and 1000 images in 'images/french_toast'.\n",
            "There are 0 directories and 1000 images in 'images/nachos'.\n",
            "There are 0 directories and 1000 images in 'images/carrot_cake'.\n",
            "There are 0 directories and 1000 images in 'images/french_fries'.\n",
            "There are 0 directories and 1000 images in 'images/donuts'.\n",
            "There are 0 directories and 1000 images in 'images/ceviche'.\n",
            "There are 0 directories and 1000 images in 'images/churros'.\n",
            "There are 0 directories and 1000 images in 'images/poutine'.\n",
            "There are 0 directories and 1000 images in 'images/spaghetti_bolognese'.\n",
            "There are 0 directories and 1000 images in 'images/grilled_cheese_sandwich'.\n",
            "There are 0 directories and 1000 images in 'images/tuna_tartare'.\n",
            "There are 0 directories and 1000 images in 'images/panna_cotta'.\n",
            "There are 0 directories and 1000 images in 'images/cup_cakes'.\n",
            "There are 0 directories and 1000 images in 'images/beignets'.\n",
            "There are 0 directories and 1000 images in 'images/foie_gras'.\n",
            "There are 0 directories and 1000 images in 'images/chicken_quesadilla'.\n",
            "There are 0 directories and 1000 images in 'images/beet_salad'.\n",
            "There are 0 directories and 1000 images in 'images/fish_and_chips'.\n",
            "There are 0 directories and 1000 images in 'images/chocolate_cake'.\n",
            "There are 0 directories and 1000 images in 'images/deviled_eggs'.\n",
            "There are 0 directories and 1000 images in 'images/pork_chop'.\n",
            "There are 0 directories and 1000 images in 'images/garlic_bread'.\n",
            "There are 0 directories and 1000 images in 'images/prime_rib'.\n",
            "There are 0 directories and 1000 images in 'images/shrimp_and_grits'.\n",
            "There are 0 directories and 1000 images in 'images/scallops'.\n",
            "There are 0 directories and 1000 images in 'images/red_velvet_cake'.\n",
            "There are 0 directories and 1000 images in 'images/escargots'.\n",
            "There are 0 directories and 1000 images in 'images/clam_chowder'.\n",
            "There are 0 directories and 1000 images in 'images/hamburger'.\n",
            "There are 0 directories and 1000 images in 'images/apple_pie'.\n",
            "There are 0 directories and 1000 images in 'images/cheesecake'.\n",
            "There are 0 directories and 1000 images in 'images/baklava'.\n",
            "There are 0 directories and 1000 images in 'images/risotto'.\n",
            "There are 0 directories and 1000 images in 'images/frozen_yogurt'.\n",
            "There are 0 directories and 1000 images in 'images/onion_rings'.\n",
            "There are 0 directories and 1000 images in 'images/club_sandwich'.\n",
            "There are 0 directories and 1000 images in 'images/cannoli'.\n",
            "There are 0 directories and 1000 images in 'images/lobster_bisque'.\n",
            "There are 0 directories and 1000 images in 'images/cheese_plate'.\n",
            "There are 0 directories and 1000 images in 'images/pad_thai'.\n",
            "There are 0 directories and 1000 images in 'images/caesar_salad'.\n",
            "There are 0 directories and 1000 images in 'images/edamame'.\n",
            "There are 0 directories and 1000 images in 'images/hummus'.\n",
            "There are 0 directories and 1000 images in 'images/beef_tartare'.\n",
            "There are 0 directories and 1000 images in 'images/hot_dog'.\n",
            "There are 0 directories and 1000 images in 'images/spaghetti_carbonara'.\n",
            "There are 0 directories and 1000 images in 'images/samosa'.\n",
            "There are 0 directories and 1000 images in 'images/breakfast_burrito'.\n",
            "There are 0 directories and 1000 images in 'images/miso_soup'.\n",
            "There are 0 directories and 1000 images in 'images/chocolate_mousse'.\n",
            "There are 0 directories and 1000 images in 'images/steak'.\n",
            "There are 0 directories and 1000 images in 'images/crab_cakes'.\n",
            "There are 0 directories and 1000 images in 'images/huevos_rancheros'.\n",
            "There are 0 directories and 1000 images in 'images/pancakes'.\n",
            "There are 0 directories and 1000 images in 'images/bruschetta'.\n",
            "There are 0 directories and 1000 images in 'images/peking_duck'.\n",
            "There are 0 directories and 1000 images in 'images/pho'.\n",
            "There are 0 directories and 1000 images in 'images/grilled_salmon'.\n",
            "There are 0 directories and 1000 images in 'images/strawberry_shortcake'.\n",
            "There are 0 directories and 1000 images in 'images/hot_and_sour_soup'.\n",
            "There are 0 directories and 1000 images in 'images/omelette'.\n",
            "There are 0 directories and 1000 images in 'images/tiramisu'.\n",
            "There are 0 directories and 1000 images in 'images/ice_cream'.\n",
            "There are 0 directories and 1000 images in 'images/lobster_roll_sandwich'.\n",
            "There are 0 directories and 1000 images in 'images/ravioli'.\n",
            "There are 0 directories and 1000 images in 'images/french_onion_soup'.\n",
            "There are 0 directories and 1000 images in 'images/guacamole'.\n",
            "There are 0 directories and 1000 images in 'images/fried_rice'.\n",
            "There are 0 directories and 1000 images in 'images/pulled_pork_sandwich'.\n",
            "There are 0 directories and 1000 images in 'images/takoyaki'.\n",
            "There are 0 directories and 1000 images in 'images/baby_back_ribs'.\n",
            "There are 0 directories and 1000 images in 'images/macaroni_and_cheese'.\n",
            "There are 0 directories and 1000 images in 'images/chicken_curry'.\n",
            "There are 0 directories and 1000 images in 'images/spring_rolls'.\n",
            "There are 0 directories and 1000 images in 'images/paella'.\n",
            "There are 0 directories and 1000 images in 'images/gnocchi'.\n",
            "There are 0 directories and 1000 images in 'images/pizza'.\n",
            "There are 0 directories and 1000 images in 'images/tacos'.\n"
          ]
        }
      ]
    },
    {
      "cell_type": "code",
      "source": [
        "# select the directory of the images (divided by class folder) - without data augmentation\n",
        "data_folder = '/content/images'\n",
        "\n",
        "list_class = os.listdir(data_folder)\n",
        "list_class.sort()\n",
        "\n",
        "\n",
        "print(f'{len(list_class)} Classes of foods.')\n",
        "print(list_class)"
      ],
      "metadata": {
        "colab": {
          "base_uri": "https://localhost:8080/"
        },
        "id": "Mg-ROOhJW0rY",
        "outputId": "afa4d588-8225-4634-e9a6-52f19d9dc57c"
      },
      "execution_count": 25,
      "outputs": [
        {
          "output_type": "stream",
          "name": "stdout",
          "text": [
            "101 Classes of foods.\n",
            "['apple_pie', 'baby_back_ribs', 'baklava', 'beef_carpaccio', 'beef_tartare', 'beet_salad', 'beignets', 'bibimbap', 'bread_pudding', 'breakfast_burrito', 'bruschetta', 'caesar_salad', 'cannoli', 'caprese_salad', 'carrot_cake', 'ceviche', 'cheese_plate', 'cheesecake', 'chicken_curry', 'chicken_quesadilla', 'chicken_wings', 'chocolate_cake', 'chocolate_mousse', 'churros', 'clam_chowder', 'club_sandwich', 'crab_cakes', 'creme_brulee', 'croque_madame', 'cup_cakes', 'deviled_eggs', 'donuts', 'dumplings', 'edamame', 'eggs_benedict', 'escargots', 'falafel', 'filet_mignon', 'fish_and_chips', 'foie_gras', 'french_fries', 'french_onion_soup', 'french_toast', 'fried_calamari', 'fried_rice', 'frozen_yogurt', 'garlic_bread', 'gnocchi', 'greek_salad', 'grilled_cheese_sandwich', 'grilled_salmon', 'guacamole', 'gyoza', 'hamburger', 'hot_and_sour_soup', 'hot_dog', 'huevos_rancheros', 'hummus', 'ice_cream', 'lasagna', 'lobster_bisque', 'lobster_roll_sandwich', 'macaroni_and_cheese', 'macarons', 'miso_soup', 'mussels', 'nachos', 'omelette', 'onion_rings', 'oysters', 'pad_thai', 'paella', 'pancakes', 'panna_cotta', 'peking_duck', 'pho', 'pizza', 'pork_chop', 'poutine', 'prime_rib', 'pulled_pork_sandwich', 'ramen', 'ravioli', 'red_velvet_cake', 'risotto', 'samosa', 'sashimi', 'scallops', 'seaweed_salad', 'shrimp_and_grits', 'spaghetti_bolognese', 'spaghetti_carbonara', 'spring_rolls', 'steak', 'strawberry_shortcake', 'sushi', 'tacos', 'takoyaki', 'tiramisu', 'tuna_tartare', 'waffles']\n"
          ]
        }
      ]
    },
    {
      "cell_type": "markdown",
      "source": [
        "### Data Preprocessing"
      ],
      "metadata": {
        "id": "1P3JUNpAYGDo"
      }
    },
    {
      "cell_type": "code",
      "source": [
        "# Set the seed\n",
        "tf.random.set_seed(42)\n",
        "\n",
        "# rescale the Image and split into validation set\n",
        "datagen = ImageDataGenerator(rescale = 1./255, validation_split = 0.2)\n",
        "\n",
        "# train set - generation\n",
        "train_generator = datagen.flow_from_directory(data_folder,\n",
        "                                         target_size = (150,150),\n",
        "                                         batch_size = 32,\n",
        "                                         class_mode = 'categorical',\n",
        "                                         subset = 'training')\n",
        "\n",
        "val_generator = datagen.flow_from_directory(data_folder,\n",
        "                                      target_size = (150,150),\n",
        "                                      batch_size = 32,\n",
        "                                      class_mode = 'categorical',\n",
        "                                      subset = 'validation')\n"
      ],
      "metadata": {
        "colab": {
          "base_uri": "https://localhost:8080/"
        },
        "id": "AR2XnVT_YNx7",
        "outputId": "4db7ae7e-24a4-4f86-fab8-5b8cf9f4e331"
      },
      "execution_count": 14,
      "outputs": [
        {
          "output_type": "stream",
          "name": "stdout",
          "text": [
            "Found 80800 images belonging to 101 classes.\n",
            "Found 20200 images belonging to 101 classes.\n"
          ]
        }
      ]
    },
    {
      "cell_type": "code",
      "source": [
        "# Sanity Check\n",
        "for data_batch, labels_batch in train_generator:\n",
        "    print('data batch shape:', data_batch.shape)\n",
        "    print('labels batch shape:', labels_batch.shape)\n",
        "    break"
      ],
      "metadata": {
        "colab": {
          "base_uri": "https://localhost:8080/"
        },
        "id": "7ckURoLns4hB",
        "outputId": "18c04fc1-6826-48fb-c15b-5f5b638360fa"
      },
      "execution_count": 27,
      "outputs": [
        {
          "output_type": "stream",
          "name": "stdout",
          "text": [
            "data batch shape: (32, 150, 150, 3)\n",
            "labels batch shape: (32, 101)\n"
          ]
        }
      ]
    },
    {
      "cell_type": "markdown",
      "source": [
        "### Building the network"
      ],
      "metadata": {
        "id": "2CHuphRHYuBz"
      }
    },
    {
      "cell_type": "code",
      "source": [
        "model = models.Sequential()\n",
        "\n",
        "# Conv 1\n",
        "# size of the image 150x150 (3 RGB), 32 neurons, (3,3) strides \n",
        "model.add(layers.Conv2D(32, (3,3), activation='relu', input_shape=(150, 150, 3)))\n",
        "# MaxPooling 1\n",
        "model.add(layers.MaxPooling2D((2,2)))\n",
        "\n",
        "# Conv 2\n",
        "model.add(layers.Conv2D(64, (3,3), activation='relu'))\n",
        "# MaxPooling 2\n",
        "model.add(layers.MaxPooling2D((2,2)))\n",
        "\n",
        "# Conv 3\n",
        "model.add(layers.Conv2D(128, (3,3), activation='relu'))\n",
        "#  MaxPooling 3\n",
        "model.add(layers.MaxPooling2D((2,2)))\n",
        "\n",
        "# Conv 4\n",
        "model.add(layers.Conv2D(128, (3,3), activation='relu'))\n",
        "#  MaxPooling 4\n",
        "model.add(layers.MaxPooling2D((2,2)))\n",
        "\n",
        "# Fully connected NN\n",
        "model.add(layers.Flatten())\n",
        "# Dense Layer 1\n",
        "model.add(layers.Dense(512, activation='relu'))\n",
        "# Output layer - sigmoid for binary and softmax for multiclass\n",
        "model.add(layers.Dense(101, activation='softmax'))"
      ],
      "metadata": {
        "id": "KakrEBhGYlit"
      },
      "execution_count": 15,
      "outputs": []
    },
    {
      "cell_type": "code",
      "source": [
        "# Defining Loss | Optimizer | Metrics\n",
        "model.compile(loss='categorical_crossentropy',\n",
        "              optimizer=optimizers.RMSprop(learning_rate=1e-4),\n",
        "              metrics=['acc']) # for accuracy"
      ],
      "metadata": {
        "id": "DyBdlE3MY1CL"
      },
      "execution_count": 16,
      "outputs": []
    },
    {
      "cell_type": "markdown",
      "source": [
        "### Training the model"
      ],
      "metadata": {
        "id": "4e43tBCUY-WM"
      }
    },
    {
      "cell_type": "code",
      "source": [
        "history = model.fit(train_generator,\n",
        "                    steps_per_epoch=25, #depends on the size of the batch and te total images for training (steps_per_epoch * batch_size = size of training set)\n",
        "                    epochs=30,\n",
        "                    validation_data=val_generator,\n",
        "                    validation_steps=7)  #depends on the size of the batch and te total images for validation (validation_steps * batch_size = size of validation set)\n",
        "\n",
        "# save the model\n",
        "model.save('food101.h5')"
      ],
      "metadata": {
        "colab": {
          "base_uri": "https://localhost:8080/"
        },
        "id": "Y2EJnWh1Y_9q",
        "outputId": "fdfb15c1-30f4-4ff2-e82f-1f6246aa5558"
      },
      "execution_count": 17,
      "outputs": [
        {
          "output_type": "stream",
          "name": "stdout",
          "text": [
            "Epoch 1/30\n",
            "25/25 [==============================] - 45s 2s/step - loss: 4.6223 - acc: 0.0063 - val_loss: 4.6179 - val_acc: 0.0089\n",
            "Epoch 2/30\n",
            "25/25 [==============================] - 43s 2s/step - loss: 4.6157 - acc: 0.0113 - val_loss: 4.6132 - val_acc: 0.0134\n",
            "Epoch 3/30\n",
            "25/25 [==============================] - 43s 2s/step - loss: 4.6131 - acc: 0.0137 - val_loss: 4.6008 - val_acc: 0.0089\n",
            "Epoch 4/30\n",
            "25/25 [==============================] - 43s 2s/step - loss: 4.6122 - acc: 0.0125 - val_loss: 4.6127 - val_acc: 0.0089\n",
            "Epoch 5/30\n",
            "25/25 [==============================] - 45s 2s/step - loss: 4.6081 - acc: 0.0088 - val_loss: 4.6011 - val_acc: 0.0089\n",
            "Epoch 6/30\n",
            "25/25 [==============================] - 43s 2s/step - loss: 4.6054 - acc: 0.0100 - val_loss: 4.6038 - val_acc: 0.0089\n",
            "Epoch 7/30\n",
            "25/25 [==============================] - 43s 2s/step - loss: 4.5917 - acc: 0.0137 - val_loss: 4.5797 - val_acc: 0.0179\n",
            "Epoch 8/30\n",
            "25/25 [==============================] - 43s 2s/step - loss: 4.5938 - acc: 0.0250 - val_loss: 4.5742 - val_acc: 0.0179\n",
            "Epoch 9/30\n",
            "25/25 [==============================] - 43s 2s/step - loss: 4.5627 - acc: 0.0300 - val_loss: 4.5170 - val_acc: 0.0268\n",
            "Epoch 10/30\n",
            "25/25 [==============================] - 43s 2s/step - loss: 4.5187 - acc: 0.0250 - val_loss: 4.4908 - val_acc: 0.0179\n",
            "Epoch 11/30\n",
            "25/25 [==============================] - 43s 2s/step - loss: 4.5195 - acc: 0.0312 - val_loss: 4.5402 - val_acc: 0.0357\n",
            "Epoch 12/30\n",
            "25/25 [==============================] - 43s 2s/step - loss: 4.4587 - acc: 0.0375 - val_loss: 4.4674 - val_acc: 0.0268\n",
            "Epoch 13/30\n",
            "25/25 [==============================] - 43s 2s/step - loss: 4.4555 - acc: 0.0400 - val_loss: 4.4832 - val_acc: 0.0134\n",
            "Epoch 14/30\n",
            "25/25 [==============================] - 43s 2s/step - loss: 4.4441 - acc: 0.0275 - val_loss: 4.4008 - val_acc: 0.0491\n",
            "Epoch 15/30\n",
            "25/25 [==============================] - 44s 2s/step - loss: 4.4066 - acc: 0.0463 - val_loss: 4.4263 - val_acc: 0.0179\n",
            "Epoch 16/30\n",
            "25/25 [==============================] - 43s 2s/step - loss: 4.3630 - acc: 0.0550 - val_loss: 4.4035 - val_acc: 0.0357\n",
            "Epoch 17/30\n",
            "25/25 [==============================] - 43s 2s/step - loss: 4.3924 - acc: 0.0463 - val_loss: 4.3678 - val_acc: 0.0580\n",
            "Epoch 18/30\n",
            "25/25 [==============================] - 43s 2s/step - loss: 4.3685 - acc: 0.0425 - val_loss: 4.3265 - val_acc: 0.0402\n",
            "Epoch 19/30\n",
            "25/25 [==============================] - 43s 2s/step - loss: 4.3203 - acc: 0.0637 - val_loss: 4.3623 - val_acc: 0.0312\n",
            "Epoch 20/30\n",
            "25/25 [==============================] - 43s 2s/step - loss: 4.3480 - acc: 0.0550 - val_loss: 4.3546 - val_acc: 0.0580\n",
            "Epoch 21/30\n",
            "25/25 [==============================] - 43s 2s/step - loss: 4.3128 - acc: 0.0587 - val_loss: 4.3004 - val_acc: 0.0312\n",
            "Epoch 22/30\n",
            "25/25 [==============================] - 43s 2s/step - loss: 4.3063 - acc: 0.0675 - val_loss: 4.4302 - val_acc: 0.0536\n",
            "Epoch 23/30\n",
            "25/25 [==============================] - 43s 2s/step - loss: 4.2788 - acc: 0.0550 - val_loss: 4.3051 - val_acc: 0.0580\n",
            "Epoch 24/30\n",
            "25/25 [==============================] - 43s 2s/step - loss: 4.2905 - acc: 0.0700 - val_loss: 4.1804 - val_acc: 0.0759\n",
            "Epoch 25/30\n",
            "25/25 [==============================] - 43s 2s/step - loss: 4.2315 - acc: 0.0637 - val_loss: 4.2341 - val_acc: 0.0804\n",
            "Epoch 26/30\n",
            "25/25 [==============================] - 43s 2s/step - loss: 4.2696 - acc: 0.0650 - val_loss: 4.3678 - val_acc: 0.0625\n",
            "Epoch 27/30\n",
            "25/25 [==============================] - 43s 2s/step - loss: 4.2973 - acc: 0.0550 - val_loss: 4.3001 - val_acc: 0.0625\n",
            "Epoch 28/30\n",
            "25/25 [==============================] - 43s 2s/step - loss: 4.2196 - acc: 0.0725 - val_loss: 4.2517 - val_acc: 0.0580\n",
            "Epoch 29/30\n",
            "25/25 [==============================] - 43s 2s/step - loss: 4.2351 - acc: 0.0613 - val_loss: 4.2160 - val_acc: 0.0804\n",
            "Epoch 30/30\n",
            "25/25 [==============================] - 45s 2s/step - loss: 4.2474 - acc: 0.0700 - val_loss: 4.3734 - val_acc: 0.0446\n"
          ]
        }
      ]
    },
    {
      "cell_type": "markdown",
      "source": [
        "### Plot the results"
      ],
      "metadata": {
        "id": "YYEx_idDZD1o"
      }
    },
    {
      "cell_type": "code",
      "source": [
        "# Names of the metrics saved on history dictionary\n",
        "\n",
        "history_dict = history.history\n",
        "history_dict.keys()"
      ],
      "metadata": {
        "colab": {
          "base_uri": "https://localhost:8080/"
        },
        "id": "w6wDSyzDZHDp",
        "outputId": "d630ce95-7517-492d-929d-48687cfce064"
      },
      "execution_count": 18,
      "outputs": [
        {
          "output_type": "execute_result",
          "data": {
            "text/plain": [
              "dict_keys(['loss', 'acc', 'val_loss', 'val_acc'])"
            ]
          },
          "metadata": {},
          "execution_count": 18
        }
      ]
    },
    {
      "cell_type": "code",
      "source": [
        "acc = history.history['acc']\n",
        "val_acc = history.history['val_acc']\n",
        "\n",
        "loss = history.history['loss']\n",
        "val_loss = history.history['val_loss']\n",
        "\n",
        "epochs = range(1, len(acc) + 1)"
      ],
      "metadata": {
        "id": "xviuFbm0kae7"
      },
      "execution_count": 19,
      "outputs": []
    },
    {
      "cell_type": "code",
      "source": [
        "plt.rcParams[\"figure.figsize\"] = (10,6)\n",
        "\n",
        "plt.plot(epochs, acc, 'bo', label='Training accuracy')\n",
        "plt.plot(epochs, val_acc, 'b', label='Validation accuracy')\n",
        "plt.title('Training and Validation accuracy')\n",
        "plt.xlabel('Epochs')\n",
        "plt.ylabel('Accuracy')\n",
        "plt.legend()\n",
        "\n",
        "plt.figure()\n",
        "\n",
        "plt.plot(epochs, loss, 'bo', label='Training loss')\n",
        "plt.plot(epochs, val_loss, 'b', label='Validation loss')\n",
        "plt.title('Training and Validation loss')\n",
        "plt.xlabel('Epochs')\n",
        "plt.ylabel('Loss')\n",
        "plt.legend()\n",
        "\n",
        "plt.show()"
      ],
      "metadata": {
        "colab": {
          "base_uri": "https://localhost:8080/",
          "height": 791
        },
        "id": "-M0etlKjkdqg",
        "outputId": "bb47495d-8d9e-4ce7-86af-a90c5c95bc77"
      },
      "execution_count": 20,
      "outputs": [
        {
          "output_type": "display_data",
          "data": {
            "text/plain": [
              "<Figure size 720x432 with 1 Axes>"
            ],
            "image/png": "[encoded data removed]"
          },
          "metadata": {
            "needs_background": "light"
          }
        },
        {
          "output_type": "display_data",
          "data": {
            "text/plain": [
              "<Figure size 720x432 with 1 Axes>"
            ],
            "image/png": "[encoded data removed]"
          },
          "metadata": {
            "needs_background": "light"
          }
        }
      ]
    },
    {
      "cell_type": "markdown",
      "source": [
        "### Heatmap - class activation heatmap for an image classification model"
      ],
      "metadata": {
        "id": "41YwGxEfqcxk"
      }
    },
    {
      "cell_type": "code",
      "source": [
        "# The Grad-CAM algorithm\n",
        "\n",
        "def get_img_array(img_path, size):\n",
        "    # `img` is a PIL image of size 299x299\n",
        "    img = keras.preprocessing.image.load_img(img_path, target_size=size)\n",
        "    # `array` is a float32 Numpy array of shape (299, 299, 3)\n",
        "    array = keras.preprocessing.image.img_to_array(img)\n",
        "    # We add a dimension to transform our array into a \"batch\"\n",
        "    # of size (1, 299, 299, 3)\n",
        "    array = np.expand_dims(array, axis=0)\n",
        "    return array\n",
        "\n",
        "\n",
        "def make_gradcam_heatmap(img_array, model, last_conv_layer_name, pred_index=None):\n",
        "    # First, we create a model that maps the input image to the activations\n",
        "    # of the last conv layer as well as the output predictions\n",
        "    grad_model = tf.keras.models.Model(\n",
        "        [model.inputs], [model.get_layer(last_conv_layer_name).output, model.output]\n",
        "    )\n",
        "\n",
        "    # Then, we compute the gradient of the top predicted class for our input image\n",
        "    # with respect to the activations of the last conv layer\n",
        "    with tf.GradientTape() as tape:\n",
        "        last_conv_layer_output, preds = grad_model(img_array)\n",
        "        if pred_index is None:\n",
        "            pred_index = tf.argmax(preds[0])\n",
        "        class_channel = preds[:, pred_index]\n",
        "\n",
        "    # This is the gradient of the output neuron (top predicted or chosen)\n",
        "    # with regard to the output feature map of the last conv layer\n",
        "    grads = tape.gradient(class_channel, last_conv_layer_output)\n",
        "\n",
        "    # This is a vector where each entry is the mean intensity of the gradient\n",
        "    # over a specific feature map channel\n",
        "    pooled_grads = tf.reduce_mean(grads, axis=(0, 1, 2))\n",
        "\n",
        "    # We multiply each channel in the feature map array\n",
        "    # by \"how important this channel is\" with regard to the top predicted class\n",
        "    # then sum all the channels to obtain the heatmap class activation\n",
        "    last_conv_layer_output = last_conv_layer_output[0]\n",
        "    heatmap = last_conv_layer_output @ pooled_grads[..., tf.newaxis]\n",
        "    heatmap = tf.squeeze(heatmap)\n",
        "\n",
        "    # For visualization purpose, we will also normalize the heatmap between 0 & 1\n",
        "    heatmap = tf.maximum(heatmap, 0) / tf.math.reduce_max(heatmap)\n",
        "    return heatmap.numpy()"
      ],
      "metadata": {
        "id": "a-9NU_gsqjFP"
      },
      "execution_count": 21,
      "outputs": []
    },
    {
      "cell_type": "code",
      "source": [
        "# function to overlap the heatmap and the real image\n",
        "\n",
        "def save_and_display_gradcam(img_path, heatmap, cam_path=\"cam.jpg\", alpha=0.4):\n",
        "    # Load the original image\n",
        "    img = keras.preprocessing.image.load_img(img_path)\n",
        "    img = keras.preprocessing.image.img_to_array(img)\n",
        "\n",
        "    # Rescale heatmap to a range 0-255\n",
        "    heatmap = np.uint8(255 * heatmap)\n",
        "\n",
        "    # Use jet colormap to colorize heatmap\n",
        "    jet = cm.get_cmap(\"jet\")\n",
        "\n",
        "    # Use RGB values of the colormap\n",
        "    jet_colors = jet(np.arange(256))[:, :3]\n",
        "    jet_heatmap = jet_colors[heatmap]\n",
        "\n",
        "    # Create an image with RGB colorized heatmap\n",
        "    jet_heatmap = keras.preprocessing.image.array_to_img(jet_heatmap)\n",
        "    jet_heatmap = jet_heatmap.resize((img.shape[1], img.shape[0]))\n",
        "    jet_heatmap = keras.preprocessing.image.img_to_array(jet_heatmap)\n",
        "\n",
        "    # Superimpose the heatmap on original image\n",
        "    superimposed_img = jet_heatmap * alpha + img\n",
        "    superimposed_img = keras.preprocessing.image.array_to_img(superimposed_img)\n",
        "\n",
        "    # Save the superimposed image\n",
        "    superimposed_img.save(cam_path)\n",
        "\n",
        "    # Display Grad CAM\n",
        "    display(Image(cam_path))"
      ],
      "metadata": {
        "id": "rb73DB9Oqna3"
      },
      "execution_count": 22,
      "outputs": []
    },
    {
      "cell_type": "code",
      "source": [
        "# Test in one image prodiction - define the parameters:\n",
        "\n",
        "# name form model.summary() of the last CNN layer\n",
        "last_conv_layer_name = 'conv2d_7'\n",
        "\n",
        "# check one image sample\n",
        "# The local path to our target image\n",
        "img_path = '/content/images/risotto/1820.jpg'\n",
        "\n",
        "# Size of the training\n",
        "display(Image(filename=img_path, width=150, height=150))"
      ],
      "metadata": {
        "colab": {
          "base_uri": "https://localhost:8080/",
          "height": 167
        },
        "id": "3dwW_3RGqr-N",
        "outputId": "6017294d-7b6c-47cd-e477-4ec1651feaa5"
      },
      "execution_count": 23,
      "outputs": [
        {
          "output_type": "display_data",
          "data": {
            "text/plain": [
              "<IPython.core.display.Image object>"
            ],
            "image/jpeg": "[encoded data removed]"
          },
          "metadata": {
            "image/jpeg": {
              "width": 150,
              "height": 150
            }
          }
        }
      ]
    },
    {
      "cell_type": "code",
      "source": [
        "# Display the image\n",
        "\n",
        "# Prepare image\n",
        "img_size = (150,150)\n",
        "img_array = get_img_array(img_path, size=img_size)\n",
        "\n",
        "\n",
        "# Remove last layer's softmax\n",
        "# model.layers[-1].activation = None\n",
        "\n",
        "# Print what the top predicted class is\n",
        "preds = model.predict(img_array)\n",
        "print(len(preds[0]))\n",
        "print(\"Predicted:\", list_class[np.argmax(preds[0])])\n",
        "\n",
        "# Generate class activation heatmap\n",
        "heatmap = make_gradcam_heatmap(img_array, model, last_conv_layer_name)\n",
        "\n",
        "# Display heatmap\n",
        "plt.matshow(heatmap)\n",
        "plt.show()\n",
        "\n",
        "save_and_display_gradcam(img_path, heatmap)"
      ],
      "metadata": {
        "colab": {
          "base_uri": "https://localhost:8080/",
          "height": 961
        },
        "id": "s7oWNagEq0MN",
        "outputId": "1c76f580-2c9a-472a-f5d7-9b4845c62516"
      },
      "execution_count": 28,
      "outputs": [
        {
          "output_type": "stream",
          "name": "stdout",
          "text": [
            "101\n",
            "Predicted: clam_chowder\n"
          ]
        },
        {
          "output_type": "stream",
          "name": "stderr",
          "text": [
            "/usr/local/lib/python3.7/dist-packages/matplotlib/image.py:452: UserWarning: Warning: converting a masked element to nan.\n",
            "  dv = np.float64(self.norm.vmax) - np.float64(self.norm.vmin)\n",
            "/usr/local/lib/python3.7/dist-packages/matplotlib/image.py:459: UserWarning: Warning: converting a masked element to nan.\n",
            "  a_min = np.float64(newmin)\n",
            "/usr/local/lib/python3.7/dist-packages/matplotlib/image.py:464: UserWarning: Warning: converting a masked element to nan.\n",
            "  a_max = np.float64(newmax)\n",
            "<string>:6: UserWarning: Warning: converting a masked element to nan.\n",
            "/usr/local/lib/python3.7/dist-packages/matplotlib/colors.py:993: UserWarning: Warning: converting a masked element to nan.\n",
            "  data = np.asarray(value)\n"
          ]
        },
        {
          "output_type": "display_data",
          "data": {
            "text/plain": [
              "<Figure size 432x432 with 1 Axes>"
            ],
            "image/png": "[encoded data removed]"
          },
          "metadata": {
            "needs_background": "light"
          }
        },
        {
          "output_type": "display_data",
          "data": {
            "text/plain": [
              "<IPython.core.display.Image object>"
            ],
            "image/jpeg": "[encoded data removed]"
          },
          "metadata": {}
        }
      ]
    }
  ]
}